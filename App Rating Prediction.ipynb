{
 "cells": [
  {
   "cell_type": "markdown",
   "id": "a71009fc",
   "metadata": {},
   "source": [
    "### Problem Statement\n",
    "We need to find the rating of an app so that the companies can earn more profit"
   ]
  },
  {
   "cell_type": "markdown",
   "id": "34c7aab2",
   "metadata": {},
   "source": [
    "### Data Collection"
   ]
  },
  {
   "cell_type": "code",
   "execution_count": 2,
   "id": "c352d251",
   "metadata": {},
   "outputs": [],
   "source": [
    "## importing necessary libraries\n",
    "import pandas as pd\n",
    "import numpy as np\n",
    "import matplotlib.pyplot as plt\n",
    "import seaborn as sns\n",
    "\n",
    "from sklearn.model_selection import train_test_split\n",
    "from sklearn.model_selection import RandomizedSearchCV\n",
    "\n",
    "from sklearn.preprocessing import StandardScaler\n",
    "from sklearn.preprocessing import PolynomialFeatures\n",
    "\n",
    "from sklearn.linear_model import LinearRegression\n",
    "import sklearn.metrics as metrics\n",
    "from sklearn.metrics import accuracy_score,mean_squared_error,r2_score,confusion_matrix\n",
    "\n",
    "from sklearn.linear_model import Ridge,Lasso,ElasticNet \n",
    "\n",
    "from sklearn.tree import DecisionTreeRegressor\n",
    "from sklearn.ensemble import RandomForestRegressor\n",
    "from sklearn.svm import SVR\n",
    "import xgboost as xgb\n",
    "from xgboost import XGBRegressor"
   ]
  },
  {
   "cell_type": "code",
   "execution_count": 3,
   "id": "25e00a01",
   "metadata": {
    "scrolled": true
   },
   "outputs": [
    {
     "data": {
      "text/html": [
       "<div>\n",
       "<style scoped>\n",
       "    .dataframe tbody tr th:only-of-type {\n",
       "        vertical-align: middle;\n",
       "    }\n",
       "\n",
       "    .dataframe tbody tr th {\n",
       "        vertical-align: top;\n",
       "    }\n",
       "\n",
       "    .dataframe thead th {\n",
       "        text-align: right;\n",
       "    }\n",
       "</style>\n",
       "<table border=\"1\" class=\"dataframe\">\n",
       "  <thead>\n",
       "    <tr style=\"text-align: right;\">\n",
       "      <th></th>\n",
       "      <th>App</th>\n",
       "      <th>Category</th>\n",
       "      <th>Rating</th>\n",
       "      <th>Reviews</th>\n",
       "      <th>Size</th>\n",
       "      <th>Installs</th>\n",
       "      <th>Type</th>\n",
       "      <th>Price</th>\n",
       "      <th>Content Rating</th>\n",
       "      <th>Genres</th>\n",
       "      <th>Last Updated</th>\n",
       "      <th>Current Ver</th>\n",
       "      <th>Android Ver</th>\n",
       "    </tr>\n",
       "  </thead>\n",
       "  <tbody>\n",
       "    <tr>\n",
       "      <th>0</th>\n",
       "      <td>Photo Editor &amp; Candy Camera &amp; Grid &amp; ScrapBook</td>\n",
       "      <td>ART_AND_DESIGN</td>\n",
       "      <td>4.1</td>\n",
       "      <td>159</td>\n",
       "      <td>19M</td>\n",
       "      <td>10,000+</td>\n",
       "      <td>Free</td>\n",
       "      <td>0</td>\n",
       "      <td>Everyone</td>\n",
       "      <td>Art &amp; Design</td>\n",
       "      <td>January 7, 2018</td>\n",
       "      <td>1.0.0</td>\n",
       "      <td>4.0.3 and up</td>\n",
       "    </tr>\n",
       "    <tr>\n",
       "      <th>1</th>\n",
       "      <td>Coloring book moana</td>\n",
       "      <td>ART_AND_DESIGN</td>\n",
       "      <td>3.9</td>\n",
       "      <td>967</td>\n",
       "      <td>14M</td>\n",
       "      <td>500,000+</td>\n",
       "      <td>Free</td>\n",
       "      <td>0</td>\n",
       "      <td>Everyone</td>\n",
       "      <td>Art &amp; Design;Pretend Play</td>\n",
       "      <td>January 15, 2018</td>\n",
       "      <td>2.0.0</td>\n",
       "      <td>4.0.3 and up</td>\n",
       "    </tr>\n",
       "    <tr>\n",
       "      <th>2</th>\n",
       "      <td>U Launcher Lite – FREE Live Cool Themes, Hide ...</td>\n",
       "      <td>ART_AND_DESIGN</td>\n",
       "      <td>4.7</td>\n",
       "      <td>87510</td>\n",
       "      <td>8.7M</td>\n",
       "      <td>5,000,000+</td>\n",
       "      <td>Free</td>\n",
       "      <td>0</td>\n",
       "      <td>Everyone</td>\n",
       "      <td>Art &amp; Design</td>\n",
       "      <td>August 1, 2018</td>\n",
       "      <td>1.2.4</td>\n",
       "      <td>4.0.3 and up</td>\n",
       "    </tr>\n",
       "    <tr>\n",
       "      <th>3</th>\n",
       "      <td>Sketch - Draw &amp; Paint</td>\n",
       "      <td>ART_AND_DESIGN</td>\n",
       "      <td>4.5</td>\n",
       "      <td>215644</td>\n",
       "      <td>25M</td>\n",
       "      <td>50,000,000+</td>\n",
       "      <td>Free</td>\n",
       "      <td>0</td>\n",
       "      <td>Teen</td>\n",
       "      <td>Art &amp; Design</td>\n",
       "      <td>June 8, 2018</td>\n",
       "      <td>Varies with device</td>\n",
       "      <td>4.2 and up</td>\n",
       "    </tr>\n",
       "    <tr>\n",
       "      <th>4</th>\n",
       "      <td>Pixel Draw - Number Art Coloring Book</td>\n",
       "      <td>ART_AND_DESIGN</td>\n",
       "      <td>4.3</td>\n",
       "      <td>967</td>\n",
       "      <td>2.8M</td>\n",
       "      <td>100,000+</td>\n",
       "      <td>Free</td>\n",
       "      <td>0</td>\n",
       "      <td>Everyone</td>\n",
       "      <td>Art &amp; Design;Creativity</td>\n",
       "      <td>June 20, 2018</td>\n",
       "      <td>1.1</td>\n",
       "      <td>4.4 and up</td>\n",
       "    </tr>\n",
       "  </tbody>\n",
       "</table>\n",
       "</div>"
      ],
      "text/plain": [
       "                                                 App        Category  Rating  \\\n",
       "0     Photo Editor & Candy Camera & Grid & ScrapBook  ART_AND_DESIGN     4.1   \n",
       "1                                Coloring book moana  ART_AND_DESIGN     3.9   \n",
       "2  U Launcher Lite – FREE Live Cool Themes, Hide ...  ART_AND_DESIGN     4.7   \n",
       "3                              Sketch - Draw & Paint  ART_AND_DESIGN     4.5   \n",
       "4              Pixel Draw - Number Art Coloring Book  ART_AND_DESIGN     4.3   \n",
       "\n",
       "  Reviews  Size     Installs  Type Price Content Rating  \\\n",
       "0     159   19M      10,000+  Free     0       Everyone   \n",
       "1     967   14M     500,000+  Free     0       Everyone   \n",
       "2   87510  8.7M   5,000,000+  Free     0       Everyone   \n",
       "3  215644   25M  50,000,000+  Free     0           Teen   \n",
       "4     967  2.8M     100,000+  Free     0       Everyone   \n",
       "\n",
       "                      Genres      Last Updated         Current Ver  \\\n",
       "0               Art & Design   January 7, 2018               1.0.0   \n",
       "1  Art & Design;Pretend Play  January 15, 2018               2.0.0   \n",
       "2               Art & Design    August 1, 2018               1.2.4   \n",
       "3               Art & Design      June 8, 2018  Varies with device   \n",
       "4    Art & Design;Creativity     June 20, 2018                 1.1   \n",
       "\n",
       "    Android Ver  \n",
       "0  4.0.3 and up  \n",
       "1  4.0.3 and up  \n",
       "2  4.0.3 and up  \n",
       "3    4.2 and up  \n",
       "4    4.4 and up  "
      ]
     },
     "execution_count": 3,
     "metadata": {},
     "output_type": "execute_result"
    }
   ],
   "source": [
    "df=pd.read_csv(\"C:\\\\Users\\\\shrut\\\\Downloads\\\\googleplaystore.csv\")\n",
    "df.head()"
   ]
  },
  {
   "cell_type": "code",
   "execution_count": 4,
   "id": "897144c8",
   "metadata": {},
   "outputs": [
    {
     "data": {
      "text/html": [
       "<div>\n",
       "<style scoped>\n",
       "    .dataframe tbody tr th:only-of-type {\n",
       "        vertical-align: middle;\n",
       "    }\n",
       "\n",
       "    .dataframe tbody tr th {\n",
       "        vertical-align: top;\n",
       "    }\n",
       "\n",
       "    .dataframe thead th {\n",
       "        text-align: right;\n",
       "    }\n",
       "</style>\n",
       "<table border=\"1\" class=\"dataframe\">\n",
       "  <thead>\n",
       "    <tr style=\"text-align: right;\">\n",
       "      <th></th>\n",
       "      <th>App</th>\n",
       "      <th>Category</th>\n",
       "      <th>Rating</th>\n",
       "      <th>Reviews</th>\n",
       "      <th>Size</th>\n",
       "      <th>Installs</th>\n",
       "      <th>Type</th>\n",
       "      <th>Price</th>\n",
       "      <th>Content Rating</th>\n",
       "      <th>Genres</th>\n",
       "      <th>Last Updated</th>\n",
       "      <th>Current Ver</th>\n",
       "      <th>Android Ver</th>\n",
       "    </tr>\n",
       "  </thead>\n",
       "  <tbody>\n",
       "    <tr>\n",
       "      <th>6357</th>\n",
       "      <td>BK Chat</td>\n",
       "      <td>COMMUNICATION</td>\n",
       "      <td>NaN</td>\n",
       "      <td>6</td>\n",
       "      <td>31M</td>\n",
       "      <td>1,000+</td>\n",
       "      <td>Free</td>\n",
       "      <td>0</td>\n",
       "      <td>Teen</td>\n",
       "      <td>Communication</td>\n",
       "      <td>July 30, 2018</td>\n",
       "      <td>2.1</td>\n",
       "      <td>4.1 and up</td>\n",
       "    </tr>\n",
       "    <tr>\n",
       "      <th>3341</th>\n",
       "      <td>Keypad Lock Screen</td>\n",
       "      <td>TOOLS</td>\n",
       "      <td>4.2</td>\n",
       "      <td>428581</td>\n",
       "      <td>4.7M</td>\n",
       "      <td>10,000,000+</td>\n",
       "      <td>Free</td>\n",
       "      <td>0</td>\n",
       "      <td>Everyone</td>\n",
       "      <td>Tools</td>\n",
       "      <td>July 17, 2018</td>\n",
       "      <td>1.33</td>\n",
       "      <td>4.0 and up</td>\n",
       "    </tr>\n",
       "    <tr>\n",
       "      <th>2098</th>\n",
       "      <td>Extreme Racing 2 - Real driving RC cars game!</td>\n",
       "      <td>FAMILY</td>\n",
       "      <td>4.3</td>\n",
       "      <td>4207</td>\n",
       "      <td>93M</td>\n",
       "      <td>500,000+</td>\n",
       "      <td>Free</td>\n",
       "      <td>0</td>\n",
       "      <td>Everyone</td>\n",
       "      <td>Racing;Action &amp; Adventure</td>\n",
       "      <td>August 31, 2017</td>\n",
       "      <td>1.1.9</td>\n",
       "      <td>4.1 and up</td>\n",
       "    </tr>\n",
       "    <tr>\n",
       "      <th>5633</th>\n",
       "      <td>7 Nights at Pixel Pizzeria - 2</td>\n",
       "      <td>GAME</td>\n",
       "      <td>4.0</td>\n",
       "      <td>23168</td>\n",
       "      <td>54M</td>\n",
       "      <td>1,000,000+</td>\n",
       "      <td>Free</td>\n",
       "      <td>0</td>\n",
       "      <td>Teen</td>\n",
       "      <td>Adventure</td>\n",
       "      <td>July 9, 2018</td>\n",
       "      <td>1.3.0</td>\n",
       "      <td>4.4 and up</td>\n",
       "    </tr>\n",
       "    <tr>\n",
       "      <th>9881</th>\n",
       "      <td>Eurostat Country Profiles</td>\n",
       "      <td>PRODUCTIVITY</td>\n",
       "      <td>3.7</td>\n",
       "      <td>87</td>\n",
       "      <td>2.0M</td>\n",
       "      <td>10,000+</td>\n",
       "      <td>Free</td>\n",
       "      <td>0</td>\n",
       "      <td>Everyone</td>\n",
       "      <td>Productivity</td>\n",
       "      <td>April 12, 2018</td>\n",
       "      <td>37.0</td>\n",
       "      <td>4.0.3 and up</td>\n",
       "    </tr>\n",
       "    <tr>\n",
       "      <th>3540</th>\n",
       "      <td>Notepad</td>\n",
       "      <td>PRODUCTIVITY</td>\n",
       "      <td>4.2</td>\n",
       "      <td>80581</td>\n",
       "      <td>2.5M</td>\n",
       "      <td>10,000,000+</td>\n",
       "      <td>Free</td>\n",
       "      <td>0</td>\n",
       "      <td>Everyone</td>\n",
       "      <td>Productivity</td>\n",
       "      <td>October 16, 2016</td>\n",
       "      <td>2.4</td>\n",
       "      <td>2.3 and up</td>\n",
       "    </tr>\n",
       "    <tr>\n",
       "      <th>3468</th>\n",
       "      <td>Archos File Manager</td>\n",
       "      <td>PRODUCTIVITY</td>\n",
       "      <td>4.0</td>\n",
       "      <td>2131</td>\n",
       "      <td>2.3M</td>\n",
       "      <td>5,000,000+</td>\n",
       "      <td>Free</td>\n",
       "      <td>0</td>\n",
       "      <td>Everyone</td>\n",
       "      <td>Productivity</td>\n",
       "      <td>April 22, 2016</td>\n",
       "      <td>4.1.4</td>\n",
       "      <td>4.1 and up</td>\n",
       "    </tr>\n",
       "    <tr>\n",
       "      <th>2360</th>\n",
       "      <td>Dexcom G6</td>\n",
       "      <td>MEDICAL</td>\n",
       "      <td>3.0</td>\n",
       "      <td>45</td>\n",
       "      <td>20M</td>\n",
       "      <td>5,000+</td>\n",
       "      <td>Free</td>\n",
       "      <td>0</td>\n",
       "      <td>Everyone</td>\n",
       "      <td>Medical</td>\n",
       "      <td>July 16, 2018</td>\n",
       "      <td>1.2.3.2</td>\n",
       "      <td>6.0 and up</td>\n",
       "    </tr>\n",
       "    <tr>\n",
       "      <th>6641</th>\n",
       "      <td>Add-On: bq (b)</td>\n",
       "      <td>PRODUCTIVITY</td>\n",
       "      <td>NaN</td>\n",
       "      <td>9</td>\n",
       "      <td>1.2M</td>\n",
       "      <td>1,000+</td>\n",
       "      <td>Free</td>\n",
       "      <td>0</td>\n",
       "      <td>Everyone</td>\n",
       "      <td>Productivity</td>\n",
       "      <td>May 19, 2015</td>\n",
       "      <td>10.0.3086</td>\n",
       "      <td>4.0 and up</td>\n",
       "    </tr>\n",
       "    <tr>\n",
       "      <th>8099</th>\n",
       "      <td>Doctor Finder CY</td>\n",
       "      <td>MEDICAL</td>\n",
       "      <td>4.9</td>\n",
       "      <td>57</td>\n",
       "      <td>6.1M</td>\n",
       "      <td>1,000+</td>\n",
       "      <td>Free</td>\n",
       "      <td>0</td>\n",
       "      <td>Everyone</td>\n",
       "      <td>Medical</td>\n",
       "      <td>November 11, 2015</td>\n",
       "      <td>1.7</td>\n",
       "      <td>3.0 and up</td>\n",
       "    </tr>\n",
       "  </tbody>\n",
       "</table>\n",
       "</div>"
      ],
      "text/plain": [
       "                                                App       Category  Rating  \\\n",
       "6357                                        BK Chat  COMMUNICATION     NaN   \n",
       "3341                             Keypad Lock Screen          TOOLS     4.2   \n",
       "2098  Extreme Racing 2 - Real driving RC cars game!         FAMILY     4.3   \n",
       "5633                 7 Nights at Pixel Pizzeria - 2           GAME     4.0   \n",
       "9881                      Eurostat Country Profiles   PRODUCTIVITY     3.7   \n",
       "3540                                        Notepad   PRODUCTIVITY     4.2   \n",
       "3468                            Archos File Manager   PRODUCTIVITY     4.0   \n",
       "2360                                      Dexcom G6        MEDICAL     3.0   \n",
       "6641                                 Add-On: bq (b)   PRODUCTIVITY     NaN   \n",
       "8099                               Doctor Finder CY        MEDICAL     4.9   \n",
       "\n",
       "     Reviews  Size     Installs  Type Price Content Rating  \\\n",
       "6357       6   31M       1,000+  Free     0           Teen   \n",
       "3341  428581  4.7M  10,000,000+  Free     0       Everyone   \n",
       "2098    4207   93M     500,000+  Free     0       Everyone   \n",
       "5633   23168   54M   1,000,000+  Free     0           Teen   \n",
       "9881      87  2.0M      10,000+  Free     0       Everyone   \n",
       "3540   80581  2.5M  10,000,000+  Free     0       Everyone   \n",
       "3468    2131  2.3M   5,000,000+  Free     0       Everyone   \n",
       "2360      45   20M       5,000+  Free     0       Everyone   \n",
       "6641       9  1.2M       1,000+  Free     0       Everyone   \n",
       "8099      57  6.1M       1,000+  Free     0       Everyone   \n",
       "\n",
       "                         Genres       Last Updated Current Ver   Android Ver  \n",
       "6357              Communication      July 30, 2018         2.1    4.1 and up  \n",
       "3341                      Tools      July 17, 2018        1.33    4.0 and up  \n",
       "2098  Racing;Action & Adventure    August 31, 2017       1.1.9    4.1 and up  \n",
       "5633                  Adventure       July 9, 2018       1.3.0    4.4 and up  \n",
       "9881               Productivity     April 12, 2018        37.0  4.0.3 and up  \n",
       "3540               Productivity   October 16, 2016         2.4    2.3 and up  \n",
       "3468               Productivity     April 22, 2016       4.1.4    4.1 and up  \n",
       "2360                    Medical      July 16, 2018     1.2.3.2    6.0 and up  \n",
       "6641               Productivity       May 19, 2015   10.0.3086    4.0 and up  \n",
       "8099                    Medical  November 11, 2015         1.7    3.0 and up  "
      ]
     },
     "execution_count": 4,
     "metadata": {},
     "output_type": "execute_result"
    }
   ],
   "source": [
    "df.sample(10)"
   ]
  },
  {
   "cell_type": "code",
   "execution_count": 5,
   "id": "d0e05687",
   "metadata": {},
   "outputs": [
    {
     "data": {
      "text/plain": [
       "(10841, 13)"
      ]
     },
     "execution_count": 5,
     "metadata": {},
     "output_type": "execute_result"
    }
   ],
   "source": [
    "df.shape"
   ]
  },
  {
   "cell_type": "code",
   "execution_count": 6,
   "id": "2d237239",
   "metadata": {},
   "outputs": [
    {
     "data": {
      "text/plain": [
       "App                object\n",
       "Category           object\n",
       "Rating            float64\n",
       "Reviews            object\n",
       "Size               object\n",
       "Installs           object\n",
       "Type               object\n",
       "Price              object\n",
       "Content Rating     object\n",
       "Genres             object\n",
       "Last Updated       object\n",
       "Current Ver        object\n",
       "Android Ver        object\n",
       "dtype: object"
      ]
     },
     "execution_count": 6,
     "metadata": {},
     "output_type": "execute_result"
    }
   ],
   "source": [
    "df.dtypes"
   ]
  },
  {
   "cell_type": "code",
   "execution_count": 7,
   "id": "f714c44d",
   "metadata": {},
   "outputs": [
    {
     "data": {
      "text/plain": [
       "App               9660\n",
       "Category            34\n",
       "Rating              40\n",
       "Reviews           6002\n",
       "Size               462\n",
       "Installs            22\n",
       "Type                 3\n",
       "Price               93\n",
       "Content Rating       6\n",
       "Genres             120\n",
       "Last Updated      1378\n",
       "Current Ver       2832\n",
       "Android Ver         33\n",
       "dtype: int64"
      ]
     },
     "execution_count": 7,
     "metadata": {},
     "output_type": "execute_result"
    }
   ],
   "source": [
    "df.nunique()"
   ]
  },
  {
   "cell_type": "code",
   "execution_count": 8,
   "id": "5a474163",
   "metadata": {},
   "outputs": [],
   "source": [
    "df_copy=df.copy()"
   ]
  },
  {
   "cell_type": "markdown",
   "id": "787196f3",
   "metadata": {},
   "source": [
    "### Data Preprocessing"
   ]
  },
  {
   "cell_type": "code",
   "execution_count": 9,
   "id": "c947b5cd",
   "metadata": {},
   "outputs": [
    {
     "data": {
      "text/plain": [
       "App                  0\n",
       "Category             0\n",
       "Rating            1474\n",
       "Reviews              0\n",
       "Size                 0\n",
       "Installs             0\n",
       "Type                 1\n",
       "Price                0\n",
       "Content Rating       1\n",
       "Genres               0\n",
       "Last Updated         0\n",
       "Current Ver          8\n",
       "Android Ver          3\n",
       "dtype: int64"
      ]
     },
     "execution_count": 9,
     "metadata": {},
     "output_type": "execute_result"
    }
   ],
   "source": [
    "df.isnull().sum()"
   ]
  },
  {
   "cell_type": "code",
   "execution_count": 10,
   "id": "f5b7d48a",
   "metadata": {},
   "outputs": [],
   "source": [
    "df.dropna(inplace=True)"
   ]
  },
  {
   "cell_type": "code",
   "execution_count": 11,
   "id": "a2ba019b",
   "metadata": {},
   "outputs": [
    {
     "data": {
      "text/plain": [
       "App               0\n",
       "Category          0\n",
       "Rating            0\n",
       "Reviews           0\n",
       "Size              0\n",
       "Installs          0\n",
       "Type              0\n",
       "Price             0\n",
       "Content Rating    0\n",
       "Genres            0\n",
       "Last Updated      0\n",
       "Current Ver       0\n",
       "Android Ver       0\n",
       "dtype: int64"
      ]
     },
     "execution_count": 11,
     "metadata": {},
     "output_type": "execute_result"
    }
   ],
   "source": [
    "df.isnull().sum()"
   ]
  },
  {
   "cell_type": "code",
   "execution_count": 12,
   "id": "df47561c",
   "metadata": {},
   "outputs": [
    {
     "data": {
      "text/plain": [
       "(9360, 13)"
      ]
     },
     "execution_count": 12,
     "metadata": {},
     "output_type": "execute_result"
    }
   ],
   "source": [
    "df.shape"
   ]
  },
  {
   "cell_type": "code",
   "execution_count": 13,
   "id": "ed850676",
   "metadata": {},
   "outputs": [
    {
     "data": {
      "text/plain": [
       "App               8190\n",
       "Category            33\n",
       "Rating              39\n",
       "Reviews           5990\n",
       "Size               413\n",
       "Installs            19\n",
       "Type                 2\n",
       "Price               73\n",
       "Content Rating       6\n",
       "Genres             115\n",
       "Last Updated      1299\n",
       "Current Ver       2638\n",
       "Android Ver         31\n",
       "dtype: int64"
      ]
     },
     "execution_count": 13,
     "metadata": {},
     "output_type": "execute_result"
    }
   ],
   "source": [
    "df.nunique()"
   ]
  },
  {
   "cell_type": "markdown",
   "id": "e5e75f9a",
   "metadata": {},
   "source": [
    "We observed that number of unique apps is 8190 while total number of rows is 9360. This means there are duplicate rows or duplicate apps prensent in the data."
   ]
  },
  {
   "cell_type": "code",
   "execution_count": 14,
   "id": "a249477a",
   "metadata": {},
   "outputs": [
    {
     "data": {
      "text/plain": [
       "474"
      ]
     },
     "execution_count": 14,
     "metadata": {},
     "output_type": "execute_result"
    }
   ],
   "source": [
    "df.duplicated().sum()"
   ]
  },
  {
   "cell_type": "code",
   "execution_count": 15,
   "id": "49910541",
   "metadata": {},
   "outputs": [
    {
     "data": {
      "text/html": [
       "<div>\n",
       "<style scoped>\n",
       "    .dataframe tbody tr th:only-of-type {\n",
       "        vertical-align: middle;\n",
       "    }\n",
       "\n",
       "    .dataframe tbody tr th {\n",
       "        vertical-align: top;\n",
       "    }\n",
       "\n",
       "    .dataframe thead th {\n",
       "        text-align: right;\n",
       "    }\n",
       "</style>\n",
       "<table border=\"1\" class=\"dataframe\">\n",
       "  <thead>\n",
       "    <tr style=\"text-align: right;\">\n",
       "      <th></th>\n",
       "      <th>App</th>\n",
       "      <th>Category</th>\n",
       "      <th>Rating</th>\n",
       "      <th>Reviews</th>\n",
       "      <th>Size</th>\n",
       "      <th>Installs</th>\n",
       "      <th>Type</th>\n",
       "      <th>Price</th>\n",
       "      <th>Content Rating</th>\n",
       "      <th>Genres</th>\n",
       "      <th>Last Updated</th>\n",
       "      <th>Current Ver</th>\n",
       "      <th>Android Ver</th>\n",
       "    </tr>\n",
       "  </thead>\n",
       "  <tbody>\n",
       "    <tr>\n",
       "      <th>229</th>\n",
       "      <td>Quick PDF Scanner + OCR FREE</td>\n",
       "      <td>BUSINESS</td>\n",
       "      <td>4.2</td>\n",
       "      <td>80805</td>\n",
       "      <td>Varies with device</td>\n",
       "      <td>5,000,000+</td>\n",
       "      <td>Free</td>\n",
       "      <td>0</td>\n",
       "      <td>Everyone</td>\n",
       "      <td>Business</td>\n",
       "      <td>February 26, 2018</td>\n",
       "      <td>Varies with device</td>\n",
       "      <td>4.0.3 and up</td>\n",
       "    </tr>\n",
       "    <tr>\n",
       "      <th>236</th>\n",
       "      <td>Box</td>\n",
       "      <td>BUSINESS</td>\n",
       "      <td>4.2</td>\n",
       "      <td>159872</td>\n",
       "      <td>Varies with device</td>\n",
       "      <td>10,000,000+</td>\n",
       "      <td>Free</td>\n",
       "      <td>0</td>\n",
       "      <td>Everyone</td>\n",
       "      <td>Business</td>\n",
       "      <td>July 31, 2018</td>\n",
       "      <td>Varies with device</td>\n",
       "      <td>Varies with device</td>\n",
       "    </tr>\n",
       "    <tr>\n",
       "      <th>239</th>\n",
       "      <td>Google My Business</td>\n",
       "      <td>BUSINESS</td>\n",
       "      <td>4.4</td>\n",
       "      <td>70991</td>\n",
       "      <td>Varies with device</td>\n",
       "      <td>5,000,000+</td>\n",
       "      <td>Free</td>\n",
       "      <td>0</td>\n",
       "      <td>Everyone</td>\n",
       "      <td>Business</td>\n",
       "      <td>July 24, 2018</td>\n",
       "      <td>2.19.0.204537701</td>\n",
       "      <td>4.4 and up</td>\n",
       "    </tr>\n",
       "    <tr>\n",
       "      <th>256</th>\n",
       "      <td>ZOOM Cloud Meetings</td>\n",
       "      <td>BUSINESS</td>\n",
       "      <td>4.4</td>\n",
       "      <td>31614</td>\n",
       "      <td>37M</td>\n",
       "      <td>10,000,000+</td>\n",
       "      <td>Free</td>\n",
       "      <td>0</td>\n",
       "      <td>Everyone</td>\n",
       "      <td>Business</td>\n",
       "      <td>July 20, 2018</td>\n",
       "      <td>4.1.28165.0716</td>\n",
       "      <td>4.0 and up</td>\n",
       "    </tr>\n",
       "    <tr>\n",
       "      <th>261</th>\n",
       "      <td>join.me - Simple Meetings</td>\n",
       "      <td>BUSINESS</td>\n",
       "      <td>4.0</td>\n",
       "      <td>6989</td>\n",
       "      <td>Varies with device</td>\n",
       "      <td>1,000,000+</td>\n",
       "      <td>Free</td>\n",
       "      <td>0</td>\n",
       "      <td>Everyone</td>\n",
       "      <td>Business</td>\n",
       "      <td>July 16, 2018</td>\n",
       "      <td>4.3.0.508</td>\n",
       "      <td>4.4 and up</td>\n",
       "    </tr>\n",
       "    <tr>\n",
       "      <th>...</th>\n",
       "      <td>...</td>\n",
       "      <td>...</td>\n",
       "      <td>...</td>\n",
       "      <td>...</td>\n",
       "      <td>...</td>\n",
       "      <td>...</td>\n",
       "      <td>...</td>\n",
       "      <td>...</td>\n",
       "      <td>...</td>\n",
       "      <td>...</td>\n",
       "      <td>...</td>\n",
       "      <td>...</td>\n",
       "      <td>...</td>\n",
       "    </tr>\n",
       "    <tr>\n",
       "      <th>8643</th>\n",
       "      <td>Wunderlist: To-Do List &amp; Tasks</td>\n",
       "      <td>PRODUCTIVITY</td>\n",
       "      <td>4.6</td>\n",
       "      <td>404610</td>\n",
       "      <td>Varies with device</td>\n",
       "      <td>10,000,000+</td>\n",
       "      <td>Free</td>\n",
       "      <td>0</td>\n",
       "      <td>Everyone</td>\n",
       "      <td>Productivity</td>\n",
       "      <td>April 6, 2018</td>\n",
       "      <td>Varies with device</td>\n",
       "      <td>Varies with device</td>\n",
       "    </tr>\n",
       "    <tr>\n",
       "      <th>8654</th>\n",
       "      <td>TickTick: To Do List with Reminder, Day Planner</td>\n",
       "      <td>PRODUCTIVITY</td>\n",
       "      <td>4.6</td>\n",
       "      <td>25370</td>\n",
       "      <td>Varies with device</td>\n",
       "      <td>1,000,000+</td>\n",
       "      <td>Free</td>\n",
       "      <td>0</td>\n",
       "      <td>Everyone</td>\n",
       "      <td>Productivity</td>\n",
       "      <td>August 6, 2018</td>\n",
       "      <td>Varies with device</td>\n",
       "      <td>Varies with device</td>\n",
       "    </tr>\n",
       "    <tr>\n",
       "      <th>8658</th>\n",
       "      <td>ColorNote Notepad Notes</td>\n",
       "      <td>PRODUCTIVITY</td>\n",
       "      <td>4.6</td>\n",
       "      <td>2401017</td>\n",
       "      <td>Varies with device</td>\n",
       "      <td>100,000,000+</td>\n",
       "      <td>Free</td>\n",
       "      <td>0</td>\n",
       "      <td>Everyone</td>\n",
       "      <td>Productivity</td>\n",
       "      <td>June 27, 2018</td>\n",
       "      <td>Varies with device</td>\n",
       "      <td>Varies with device</td>\n",
       "    </tr>\n",
       "    <tr>\n",
       "      <th>10049</th>\n",
       "      <td>Airway Ex - Intubate. Anesthetize. Train.</td>\n",
       "      <td>MEDICAL</td>\n",
       "      <td>4.3</td>\n",
       "      <td>123</td>\n",
       "      <td>86M</td>\n",
       "      <td>10,000+</td>\n",
       "      <td>Free</td>\n",
       "      <td>0</td>\n",
       "      <td>Everyone</td>\n",
       "      <td>Medical</td>\n",
       "      <td>June 1, 2018</td>\n",
       "      <td>0.6.88</td>\n",
       "      <td>5.0 and up</td>\n",
       "    </tr>\n",
       "    <tr>\n",
       "      <th>10768</th>\n",
       "      <td>AAFP</td>\n",
       "      <td>MEDICAL</td>\n",
       "      <td>3.8</td>\n",
       "      <td>63</td>\n",
       "      <td>24M</td>\n",
       "      <td>10,000+</td>\n",
       "      <td>Free</td>\n",
       "      <td>0</td>\n",
       "      <td>Everyone</td>\n",
       "      <td>Medical</td>\n",
       "      <td>June 22, 2018</td>\n",
       "      <td>2.3.1</td>\n",
       "      <td>5.0 and up</td>\n",
       "    </tr>\n",
       "  </tbody>\n",
       "</table>\n",
       "<p>474 rows × 13 columns</p>\n",
       "</div>"
      ],
      "text/plain": [
       "                                                   App      Category  Rating  \\\n",
       "229                       Quick PDF Scanner + OCR FREE      BUSINESS     4.2   \n",
       "236                                                Box      BUSINESS     4.2   \n",
       "239                                 Google My Business      BUSINESS     4.4   \n",
       "256                                ZOOM Cloud Meetings      BUSINESS     4.4   \n",
       "261                          join.me - Simple Meetings      BUSINESS     4.0   \n",
       "...                                                ...           ...     ...   \n",
       "8643                    Wunderlist: To-Do List & Tasks  PRODUCTIVITY     4.6   \n",
       "8654   TickTick: To Do List with Reminder, Day Planner  PRODUCTIVITY     4.6   \n",
       "8658                           ColorNote Notepad Notes  PRODUCTIVITY     4.6   \n",
       "10049        Airway Ex - Intubate. Anesthetize. Train.       MEDICAL     4.3   \n",
       "10768                                             AAFP       MEDICAL     3.8   \n",
       "\n",
       "       Reviews                Size      Installs  Type Price Content Rating  \\\n",
       "229      80805  Varies with device    5,000,000+  Free     0       Everyone   \n",
       "236     159872  Varies with device   10,000,000+  Free     0       Everyone   \n",
       "239      70991  Varies with device    5,000,000+  Free     0       Everyone   \n",
       "256      31614                 37M   10,000,000+  Free     0       Everyone   \n",
       "261       6989  Varies with device    1,000,000+  Free     0       Everyone   \n",
       "...        ...                 ...           ...   ...   ...            ...   \n",
       "8643    404610  Varies with device   10,000,000+  Free     0       Everyone   \n",
       "8654     25370  Varies with device    1,000,000+  Free     0       Everyone   \n",
       "8658   2401017  Varies with device  100,000,000+  Free     0       Everyone   \n",
       "10049      123                 86M       10,000+  Free     0       Everyone   \n",
       "10768       63                 24M       10,000+  Free     0       Everyone   \n",
       "\n",
       "             Genres       Last Updated         Current Ver         Android Ver  \n",
       "229        Business  February 26, 2018  Varies with device        4.0.3 and up  \n",
       "236        Business      July 31, 2018  Varies with device  Varies with device  \n",
       "239        Business      July 24, 2018    2.19.0.204537701          4.4 and up  \n",
       "256        Business      July 20, 2018      4.1.28165.0716          4.0 and up  \n",
       "261        Business      July 16, 2018           4.3.0.508          4.4 and up  \n",
       "...             ...                ...                 ...                 ...  \n",
       "8643   Productivity      April 6, 2018  Varies with device  Varies with device  \n",
       "8654   Productivity     August 6, 2018  Varies with device  Varies with device  \n",
       "8658   Productivity      June 27, 2018  Varies with device  Varies with device  \n",
       "10049       Medical       June 1, 2018              0.6.88          5.0 and up  \n",
       "10768       Medical      June 22, 2018               2.3.1          5.0 and up  \n",
       "\n",
       "[474 rows x 13 columns]"
      ]
     },
     "execution_count": 15,
     "metadata": {},
     "output_type": "execute_result"
    }
   ],
   "source": [
    "duplicated_rows=df[df.duplicated()]\n",
    "duplicated_rows"
   ]
  },
  {
   "cell_type": "code",
   "execution_count": 16,
   "id": "31dd67e8",
   "metadata": {},
   "outputs": [],
   "source": [
    "df.drop_duplicates(inplace=True)"
   ]
  },
  {
   "cell_type": "code",
   "execution_count": 17,
   "id": "c9490872",
   "metadata": {},
   "outputs": [
    {
     "data": {
      "text/plain": [
       "0"
      ]
     },
     "execution_count": 17,
     "metadata": {},
     "output_type": "execute_result"
    }
   ],
   "source": [
    "df.duplicated().sum()"
   ]
  },
  {
   "cell_type": "markdown",
   "id": "69e3d6b3",
   "metadata": {},
   "source": [
    "### EDA"
   ]
  },
  {
   "cell_type": "code",
   "execution_count": 18,
   "id": "2b8d8fd6",
   "metadata": {},
   "outputs": [
    {
     "data": {
      "text/html": [
       "<div>\n",
       "<style scoped>\n",
       "    .dataframe tbody tr th:only-of-type {\n",
       "        vertical-align: middle;\n",
       "    }\n",
       "\n",
       "    .dataframe tbody tr th {\n",
       "        vertical-align: top;\n",
       "    }\n",
       "\n",
       "    .dataframe thead th {\n",
       "        text-align: right;\n",
       "    }\n",
       "</style>\n",
       "<table border=\"1\" class=\"dataframe\">\n",
       "  <thead>\n",
       "    <tr style=\"text-align: right;\">\n",
       "      <th></th>\n",
       "      <th>App</th>\n",
       "      <th>Category</th>\n",
       "      <th>Rating</th>\n",
       "      <th>Reviews</th>\n",
       "      <th>Size</th>\n",
       "      <th>Installs</th>\n",
       "      <th>Type</th>\n",
       "      <th>Price</th>\n",
       "      <th>Content Rating</th>\n",
       "      <th>Genres</th>\n",
       "      <th>Last Updated</th>\n",
       "      <th>Current Ver</th>\n",
       "      <th>Android Ver</th>\n",
       "    </tr>\n",
       "  </thead>\n",
       "  <tbody>\n",
       "    <tr>\n",
       "      <th>0</th>\n",
       "      <td>Photo Editor &amp; Candy Camera &amp; Grid &amp; ScrapBook</td>\n",
       "      <td>ART_AND_DESIGN</td>\n",
       "      <td>4.1</td>\n",
       "      <td>159</td>\n",
       "      <td>19M</td>\n",
       "      <td>10,000+</td>\n",
       "      <td>Free</td>\n",
       "      <td>0</td>\n",
       "      <td>Everyone</td>\n",
       "      <td>Art &amp; Design</td>\n",
       "      <td>January 7, 2018</td>\n",
       "      <td>1.0.0</td>\n",
       "      <td>4.0.3 and up</td>\n",
       "    </tr>\n",
       "    <tr>\n",
       "      <th>1</th>\n",
       "      <td>Coloring book moana</td>\n",
       "      <td>ART_AND_DESIGN</td>\n",
       "      <td>3.9</td>\n",
       "      <td>967</td>\n",
       "      <td>14M</td>\n",
       "      <td>500,000+</td>\n",
       "      <td>Free</td>\n",
       "      <td>0</td>\n",
       "      <td>Everyone</td>\n",
       "      <td>Art &amp; Design;Pretend Play</td>\n",
       "      <td>January 15, 2018</td>\n",
       "      <td>2.0.0</td>\n",
       "      <td>4.0.3 and up</td>\n",
       "    </tr>\n",
       "    <tr>\n",
       "      <th>2</th>\n",
       "      <td>U Launcher Lite – FREE Live Cool Themes, Hide ...</td>\n",
       "      <td>ART_AND_DESIGN</td>\n",
       "      <td>4.7</td>\n",
       "      <td>87510</td>\n",
       "      <td>8.7M</td>\n",
       "      <td>5,000,000+</td>\n",
       "      <td>Free</td>\n",
       "      <td>0</td>\n",
       "      <td>Everyone</td>\n",
       "      <td>Art &amp; Design</td>\n",
       "      <td>August 1, 2018</td>\n",
       "      <td>1.2.4</td>\n",
       "      <td>4.0.3 and up</td>\n",
       "    </tr>\n",
       "    <tr>\n",
       "      <th>3</th>\n",
       "      <td>Sketch - Draw &amp; Paint</td>\n",
       "      <td>ART_AND_DESIGN</td>\n",
       "      <td>4.5</td>\n",
       "      <td>215644</td>\n",
       "      <td>25M</td>\n",
       "      <td>50,000,000+</td>\n",
       "      <td>Free</td>\n",
       "      <td>0</td>\n",
       "      <td>Teen</td>\n",
       "      <td>Art &amp; Design</td>\n",
       "      <td>June 8, 2018</td>\n",
       "      <td>Varies with device</td>\n",
       "      <td>4.2 and up</td>\n",
       "    </tr>\n",
       "    <tr>\n",
       "      <th>4</th>\n",
       "      <td>Pixel Draw - Number Art Coloring Book</td>\n",
       "      <td>ART_AND_DESIGN</td>\n",
       "      <td>4.3</td>\n",
       "      <td>967</td>\n",
       "      <td>2.8M</td>\n",
       "      <td>100,000+</td>\n",
       "      <td>Free</td>\n",
       "      <td>0</td>\n",
       "      <td>Everyone</td>\n",
       "      <td>Art &amp; Design;Creativity</td>\n",
       "      <td>June 20, 2018</td>\n",
       "      <td>1.1</td>\n",
       "      <td>4.4 and up</td>\n",
       "    </tr>\n",
       "  </tbody>\n",
       "</table>\n",
       "</div>"
      ],
      "text/plain": [
       "                                                 App        Category  Rating  \\\n",
       "0     Photo Editor & Candy Camera & Grid & ScrapBook  ART_AND_DESIGN     4.1   \n",
       "1                                Coloring book moana  ART_AND_DESIGN     3.9   \n",
       "2  U Launcher Lite – FREE Live Cool Themes, Hide ...  ART_AND_DESIGN     4.7   \n",
       "3                              Sketch - Draw & Paint  ART_AND_DESIGN     4.5   \n",
       "4              Pixel Draw - Number Art Coloring Book  ART_AND_DESIGN     4.3   \n",
       "\n",
       "  Reviews  Size     Installs  Type Price Content Rating  \\\n",
       "0     159   19M      10,000+  Free     0       Everyone   \n",
       "1     967   14M     500,000+  Free     0       Everyone   \n",
       "2   87510  8.7M   5,000,000+  Free     0       Everyone   \n",
       "3  215644   25M  50,000,000+  Free     0           Teen   \n",
       "4     967  2.8M     100,000+  Free     0       Everyone   \n",
       "\n",
       "                      Genres      Last Updated         Current Ver  \\\n",
       "0               Art & Design   January 7, 2018               1.0.0   \n",
       "1  Art & Design;Pretend Play  January 15, 2018               2.0.0   \n",
       "2               Art & Design    August 1, 2018               1.2.4   \n",
       "3               Art & Design      June 8, 2018  Varies with device   \n",
       "4    Art & Design;Creativity     June 20, 2018                 1.1   \n",
       "\n",
       "    Android Ver  \n",
       "0  4.0.3 and up  \n",
       "1  4.0.3 and up  \n",
       "2  4.0.3 and up  \n",
       "3    4.2 and up  \n",
       "4    4.4 and up  "
      ]
     },
     "execution_count": 18,
     "metadata": {},
     "output_type": "execute_result"
    }
   ],
   "source": [
    "df.head()"
   ]
  },
  {
   "cell_type": "code",
   "execution_count": 19,
   "id": "d3d79613",
   "metadata": {},
   "outputs": [
    {
     "data": {
      "text/plain": [
       "(8886, 13)"
      ]
     },
     "execution_count": 19,
     "metadata": {},
     "output_type": "execute_result"
    }
   ],
   "source": [
    "df.shape"
   ]
  },
  {
   "cell_type": "code",
   "execution_count": 20,
   "id": "c6314025",
   "metadata": {},
   "outputs": [
    {
     "name": "stderr",
     "output_type": "stream",
     "text": [
      "C:\\Users\\shrut\\anaconda3\\Lib\\site-packages\\seaborn\\_oldcore.py:1119: FutureWarning: use_inf_as_na option is deprecated and will be removed in a future version. Convert inf values to NaN before operating instead.\n",
      "  with pd.option_context('mode.use_inf_as_na', True):\n"
     ]
    },
    {
     "data": {
      "text/plain": [
       "<Axes: xlabel='Rating', ylabel='Density'>"
      ]
     },
     "execution_count": 20,
     "metadata": {},
     "output_type": "execute_result"
    },
    {
     "data": {
      "image/png": "[encoded data removed]",
      "text/plain": [
       "<Figure size 640x480 with 1 Axes>"
      ]
     },
     "metadata": {},
     "output_type": "display_data"
    }
   ],
   "source": [
    "sns.kdeplot(df['Rating'])"
   ]
  },
  {
   "cell_type": "markdown",
   "id": "6a97226e",
   "metadata": {},
   "source": [
    "The ratings are concentrated in the range of 3.5 to 4.5 out of 5. It is a left skewed plot"
   ]
  },
  {
   "cell_type": "code",
   "execution_count": 21,
   "id": "0ab0ed9d",
   "metadata": {},
   "outputs": [
    {
     "data": {
      "text/plain": [
       "5.0"
      ]
     },
     "execution_count": 21,
     "metadata": {},
     "output_type": "execute_result"
    }
   ],
   "source": [
    "df['Rating'].max()"
   ]
  },
  {
   "cell_type": "code",
   "execution_count": 22,
   "id": "4379e4d9",
   "metadata": {},
   "outputs": [
    {
     "data": {
      "text/plain": [
       "<Axes: >"
      ]
     },
     "execution_count": 22,
     "metadata": {},
     "output_type": "execute_result"
    },
    {
     "data": {
      "image/png": "[encoded data removed]",
      "text/plain": [
       "<Figure size 640x480 with 1 Axes>"
      ]
     },
     "metadata": {},
     "output_type": "display_data"
    }
   ],
   "source": [
    "sns.boxplot(df['Rating'])"
   ]
  },
  {
   "cell_type": "code",
   "execution_count": 23,
   "id": "df18a8c7",
   "metadata": {},
   "outputs": [],
   "source": [
    "# from scipy.stats import percentileofscore\n",
    "\n",
    "# # Replace 'datapoint' with your specific value\n",
    "# datapoint = 3.2\n",
    "# quantile = percentileofscore(df['Rating'], datapoint) / 100  # Convert percentile to quantile\n",
    "# print(f\"The quantile for {datapoint} is approximately {quantile:.2f}\")"
   ]
  },
  {
   "cell_type": "code",
   "execution_count": 24,
   "id": "04287a27",
   "metadata": {},
   "outputs": [
    {
     "name": "stdout",
     "output_type": "stream",
     "text": [
      "33\n",
      "['ART_AND_DESIGN' 'AUTO_AND_VEHICLES' 'BEAUTY' 'BOOKS_AND_REFERENCE'\n",
      " 'BUSINESS' 'COMICS' 'COMMUNICATION' 'DATING' 'EDUCATION' 'ENTERTAINMENT'\n",
      " 'EVENTS' 'FINANCE' 'FOOD_AND_DRINK' 'HEALTH_AND_FITNESS' 'HOUSE_AND_HOME'\n",
      " 'LIBRARIES_AND_DEMO' 'LIFESTYLE' 'GAME' 'FAMILY' 'MEDICAL' 'SOCIAL'\n",
      " 'SHOPPING' 'PHOTOGRAPHY' 'SPORTS' 'TRAVEL_AND_LOCAL' 'TOOLS'\n",
      " 'PERSONALIZATION' 'PRODUCTIVITY' 'PARENTING' 'WEATHER' 'VIDEO_PLAYERS'\n",
      " 'NEWS_AND_MAGAZINES' 'MAPS_AND_NAVIGATION']\n"
     ]
    }
   ],
   "source": [
    "print(df['Category'].nunique())\n",
    "print(df['Category'].unique())"
   ]
  },
  {
   "cell_type": "code",
   "execution_count": 25,
   "id": "aa7a0236",
   "metadata": {},
   "outputs": [],
   "source": [
    "rename_dict={'ART_AND_DESIGN': 'Art',\n",
    "             'AUTO_AND_VEHICLES': 'Transport',\n",
    "             'BEAUTY': 'Beauty',\n",
    "             'BOOKS_AND_REFERENCE': 'Education',  # Combine with education\n",
    "             'BUSINESS': 'Business',\n",
    "             'COMICS': 'Comics',  # Combine with books\n",
    "             'COMMUNICATION': 'Media', # rename media\n",
    "             'NEWS_AND_MAGAZINES': 'Media', # Combine in media\n",
    "             'GAME': 'Game',\n",
    "             'VIDEO_PLAYERS': 'Game', # Combine with game\n",
    "             'SOCIAL': 'Social',\n",
    "             'DATING': 'Social', # social\n",
    "             'EVENTS': 'Social', #social\n",
    "             'EDUCATION': 'Education',\n",
    "             'ENTERTAINMENT': 'Entertainment',\n",
    "             'FINANCE': 'Finance',\n",
    "             'FOOD_AND_DRINK': 'Eatables',\n",
    "             'HEALTH_AND_FITNESS': 'Health',\n",
    "             'HOUSE_AND_HOME': 'House',\n",
    "             'LIBRARIES_AND_DEMO': 'Libraries',\n",
    "             'LIFESTYLE': 'Lifestyle',\n",
    "             'FAMILY': 'Family',\n",
    "             'MEDICAL': 'Medical',\n",
    "             'SHOPPING': 'Shopping',\n",
    "             'PHOTOGRAPHY': 'Photos',\n",
    "             'SPORTS': 'Sports',\n",
    "             'TRAVEL_AND_LOCAL': 'Travel',\n",
    "             'TOOLS': 'Tools',\n",
    "             'PERSONALIZATION': 'Lifestyle',  # Combine with lifestyle\n",
    "             'PRODUCTIVITY': 'Productivity',\n",
    "             'PARENTING': 'Parenting',\n",
    "             'WEATHER': 'Weather',\n",
    "             'MAPS_AND_NAVIGATION': 'Maps'\n",
    "            }"
   ]
  },
  {
   "cell_type": "code",
   "execution_count": 26,
   "id": "96625749",
   "metadata": {},
   "outputs": [],
   "source": [
    "df['Category']=df['Category'].replace(rename_dict)"
   ]
  },
  {
   "cell_type": "code",
   "execution_count": 27,
   "id": "61455270",
   "metadata": {},
   "outputs": [
    {
     "data": {
      "text/plain": [
       "Text(0.5, 1.0, 'Countplot of Category')"
      ]
     },
     "execution_count": 27,
     "metadata": {},
     "output_type": "execute_result"
    },
    {
     "data": {
      "image/png": "[encoded data removed]",
      "text/plain": [
       "<Figure size 800x1000 with 1 Axes>"
      ]
     },
     "metadata": {},
     "output_type": "display_data"
    }
   ],
   "source": [
    "plt.figure(figsize=(8,10))\n",
    "sns.countplot(y='Category',data=df)\n",
    "plt.title('Countplot of Category')"
   ]
  },
  {
   "cell_type": "markdown",
   "id": "85bb394d",
   "metadata": {},
   "source": [
    "Top categories are Family, followed by Game and Tools"
   ]
  },
  {
   "cell_type": "code",
   "execution_count": 28,
   "id": "fa4ce09b",
   "metadata": {},
   "outputs": [],
   "source": [
    "counts=df['Category'].value_counts()"
   ]
  },
  {
   "cell_type": "code",
   "execution_count": 31,
   "id": "98ad85e4",
   "metadata": {},
   "outputs": [
    {
     "data": {
      "text/plain": [
       "Index(['Weather', 'Transport', 'House', 'Libraries', 'Art', 'Comics',\n",
       "       'Parenting', 'Beauty'],\n",
       "      dtype='object', name='Category')"
      ]
     },
     "execution_count": 31,
     "metadata": {},
     "output_type": "execute_result"
    }
   ],
   "source": [
    "# Find categories having <100 apps in it\n",
    "\n",
    "small_category=counts[counts<100].index\n",
    "small_category"
   ]
  },
  {
   "cell_type": "code",
   "execution_count": 32,
   "id": "6f07e36f",
   "metadata": {},
   "outputs": [],
   "source": [
    "# Make new Category called as Others\n",
    "\n",
    "df['Category']=df['Category'].replace(small_category,'Others')"
   ]
  },
  {
   "cell_type": "code",
   "execution_count": 33,
   "id": "f18e0604",
   "metadata": {},
   "outputs": [
    {
     "data": {
      "text/plain": [
       "Text(0.5, 1.0, 'Countplot of Category')"
      ]
     },
     "execution_count": 33,
     "metadata": {},
     "output_type": "execute_result"
    },
    {
     "data": {
      "image/png": "[encoded data removed]",
      "text/plain": [
       "<Figure size 800x1000 with 1 Axes>"
      ]
     },
     "metadata": {},
     "output_type": "display_data"
    }
   ],
   "source": [
    "plt.figure(figsize=(8,10))\n",
    "sns.countplot(y='Category',data=df)\n",
    "plt.title('Countplot of Category')"
   ]
  },
  {
   "cell_type": "code",
   "execution_count": 34,
   "id": "2c1ab0e0",
   "metadata": {},
   "outputs": [
    {
     "data": {
      "text/plain": [
       "<Axes: xlabel='Rating', ylabel='Category'>"
      ]
     },
     "execution_count": 34,
     "metadata": {},
     "output_type": "execute_result"
    },
    {
     "data": {
      "image/png": "[encoded data removed]",
      "text/plain": [
       "<Figure size 600x600 with 1 Axes>"
      ]
     },
     "metadata": {},
     "output_type": "display_data"
    }
   ],
   "source": [
    "plt.figure(figsize=(6,6))\n",
    "sns.scatterplot(data=df,y='Category',x='Rating')"
   ]
  },
  {
   "cell_type": "code",
   "execution_count": 35,
   "id": "41ee0294",
   "metadata": {},
   "outputs": [
    {
     "data": {
      "text/plain": [
       "dtype('O')"
      ]
     },
     "execution_count": 35,
     "metadata": {},
     "output_type": "execute_result"
    }
   ],
   "source": [
    "df['Reviews'].dtypes"
   ]
  },
  {
   "cell_type": "code",
   "execution_count": 36,
   "id": "5b3ded5a",
   "metadata": {
    "scrolled": true
   },
   "outputs": [
    {
     "data": {
      "text/plain": [
       "dtype('int64')"
      ]
     },
     "execution_count": 36,
     "metadata": {},
     "output_type": "execute_result"
    }
   ],
   "source": [
    "# Convert Reviews into int\n",
    "\n",
    "df['Reviews'] = df['Reviews'].apply(lambda x: int(x))\n",
    "df['Reviews'].dtypes"
   ]
  },
  {
   "cell_type": "code",
   "execution_count": 37,
   "id": "167df2df",
   "metadata": {},
   "outputs": [
    {
     "name": "stderr",
     "output_type": "stream",
     "text": [
      "C:\\Users\\shrut\\anaconda3\\Lib\\site-packages\\seaborn\\_oldcore.py:1119: FutureWarning: use_inf_as_na option is deprecated and will be removed in a future version. Convert inf values to NaN before operating instead.\n",
      "  with pd.option_context('mode.use_inf_as_na', True):\n"
     ]
    },
    {
     "data": {
      "text/plain": [
       "<Axes: xlabel='Reviews', ylabel='Density'>"
      ]
     },
     "execution_count": 37,
     "metadata": {},
     "output_type": "execute_result"
    },
    {
     "data": {
      "image/png": "[encoded data removed]",
      "text/plain": [
       "<Figure size 640x480 with 1 Axes>"
      ]
     },
     "metadata": {},
     "output_type": "display_data"
    }
   ],
   "source": [
    "sns.kdeplot(df['Reviews'])"
   ]
  },
  {
   "cell_type": "code",
   "execution_count": 38,
   "id": "b1a81221",
   "metadata": {},
   "outputs": [
    {
     "data": {
      "text/plain": [
       "<Axes: xlabel='Reviews', ylabel='Rating'>"
      ]
     },
     "execution_count": 38,
     "metadata": {},
     "output_type": "execute_result"
    },
    {
     "data": {
      "image/png": "[encoded data removed]",
      "text/plain": [
       "<Figure size 640x480 with 1 Axes>"
      ]
     },
     "metadata": {},
     "output_type": "display_data"
    }
   ],
   "source": [
    "sns.scatterplot(data=df,x='Reviews',y='Rating')"
   ]
  },
  {
   "cell_type": "markdown",
   "id": "f461a2e9",
   "metadata": {},
   "source": [
    "Rating more, Reviews more"
   ]
  },
  {
   "cell_type": "code",
   "execution_count": 40,
   "id": "b9f23e6a",
   "metadata": {
    "scrolled": true
   },
   "outputs": [
    {
     "data": {
      "text/plain": [
       "array(['19M', '14M', '8.7M', '25M', '2.8M', '5.6M', '29M', '33M', '3.1M',\n",
       "       '28M', '12M', '20M', '21M', '37M', '5.5M', '17M', '39M', '31M',\n",
       "       '4.2M', '23M', '6.0M', '6.1M', '4.6M', '9.2M', '5.2M', '11M',\n",
       "       '24M', 'Varies with device', '9.4M', '15M', '10M', '1.2M', '26M',\n",
       "       '8.0M', '7.9M', '56M', '57M', '35M', '54M', '201k', '3.6M', '5.7M',\n",
       "       '8.6M', '2.4M', '27M', '2.7M', '2.5M', '7.0M', '16M', '3.4M',\n",
       "       '8.9M', '3.9M', '2.9M', '38M', '32M', '5.4M', '18M', '1.1M',\n",
       "       '2.2M', '4.5M', '9.8M', '52M', '9.0M', '6.7M', '30M', '2.6M',\n",
       "       '7.1M', '22M', '6.4M', '3.2M', '8.2M', '4.9M', '9.5M', '5.0M',\n",
       "       '5.9M', '13M', '73M', '6.8M', '3.5M', '4.0M', '2.3M', '2.1M',\n",
       "       '42M', '9.1M', '55M', '23k', '7.3M', '6.5M', '1.5M', '7.5M', '51M',\n",
       "       '41M', '48M', '8.5M', '46M', '8.3M', '4.3M', '4.7M', '3.3M', '40M',\n",
       "       '7.8M', '8.8M', '6.6M', '5.1M', '61M', '66M', '79k', '8.4M',\n",
       "       '3.7M', '118k', '44M', '695k', '1.6M', '6.2M', '53M', '1.4M',\n",
       "       '3.0M', '7.2M', '5.8M', '3.8M', '9.6M', '45M', '63M', '49M', '77M',\n",
       "       '4.4M', '70M', '9.3M', '8.1M', '36M', '6.9M', '7.4M', '84M', '97M',\n",
       "       '2.0M', '1.9M', '1.8M', '5.3M', '47M', '556k', '526k', '76M',\n",
       "       '7.6M', '59M', '9.7M', '78M', '72M', '43M', '7.7M', '6.3M', '334k',\n",
       "       '93M', '65M', '79M', '100M', '58M', '50M', '68M', '64M', '34M',\n",
       "       '67M', '60M', '94M', '9.9M', '232k', '99M', '624k', '95M', '8.5k',\n",
       "       '41k', '292k', '80M', '1.7M', '10.0M', '74M', '62M', '69M', '75M',\n",
       "       '98M', '85M', '82M', '96M', '87M', '71M', '86M', '91M', '81M',\n",
       "       '92M', '83M', '88M', '704k', '862k', '899k', '378k', '4.8M',\n",
       "       '266k', '375k', '1.3M', '975k', '980k', '4.1M', '89M', '696k',\n",
       "       '544k', '525k', '920k', '779k', '853k', '720k', '713k', '772k',\n",
       "       '318k', '58k', '241k', '196k', '857k', '51k', '953k', '865k',\n",
       "       '251k', '930k', '540k', '313k', '746k', '203k', '26k', '314k',\n",
       "       '239k', '371k', '220k', '730k', '756k', '91k', '293k', '17k',\n",
       "       '74k', '14k', '317k', '78k', '924k', '818k', '81k', '939k', '169k',\n",
       "       '45k', '965k', '90M', '545k', '61k', '283k', '655k', '714k', '93k',\n",
       "       '872k', '121k', '322k', '976k', '206k', '954k', '444k', '717k',\n",
       "       '210k', '609k', '308k', '306k', '175k', '350k', '383k', '454k',\n",
       "       '1.0M', '70k', '812k', '442k', '842k', '417k', '412k', '459k',\n",
       "       '478k', '335k', '782k', '721k', '430k', '429k', '192k', '460k',\n",
       "       '728k', '496k', '816k', '414k', '506k', '887k', '613k', '778k',\n",
       "       '683k', '592k', '186k', '840k', '647k', '373k', '437k', '598k',\n",
       "       '716k', '585k', '982k', '219k', '55k', '323k', '691k', '511k',\n",
       "       '951k', '963k', '25k', '554k', '351k', '27k', '82k', '208k',\n",
       "       '551k', '29k', '103k', '116k', '153k', '209k', '499k', '173k',\n",
       "       '597k', '809k', '122k', '411k', '400k', '801k', '787k', '50k',\n",
       "       '643k', '986k', '516k', '837k', '780k', '20k', '498k', '600k',\n",
       "       '656k', '221k', '228k', '176k', '34k', '259k', '164k', '458k',\n",
       "       '629k', '28k', '288k', '775k', '785k', '636k', '916k', '994k',\n",
       "       '309k', '485k', '914k', '903k', '608k', '500k', '54k', '562k',\n",
       "       '847k', '948k', '811k', '270k', '48k', '523k', '784k', '280k',\n",
       "       '24k', '892k', '154k', '18k', '33k', '860k', '364k', '387k',\n",
       "       '626k', '161k', '879k', '39k', '170k', '141k', '160k', '144k',\n",
       "       '143k', '190k', '376k', '193k', '473k', '246k', '73k', '253k',\n",
       "       '957k', '420k', '72k', '404k', '470k', '226k', '240k', '89k',\n",
       "       '234k', '257k', '861k', '467k', '676k', '552k', '582k', '619k'],\n",
       "      dtype=object)"
      ]
     },
     "execution_count": 40,
     "metadata": {},
     "output_type": "execute_result"
    }
   ],
   "source": [
    "df['Size'].unique()"
   ]
  },
  {
   "cell_type": "code",
   "execution_count": 41,
   "id": "08a7b2c7",
   "metadata": {},
   "outputs": [],
   "source": [
    "# Remove the non-int characters and then covert them into float\n",
    "\n",
    "def to_numeric(value):\n",
    "    if 'M' in value:\n",
    "        return int(float(value.replace('M',''))*1e6)\n",
    "    elif 'k' in value:\n",
    "        return int(float(value.replace('k',''))*1e3)\n",
    "    elif value=='Varies with device':\n",
    "        return np.nan\n",
    "    else:\n",
    "        return int(value)\n",
    "df['Size']=df['Size'].apply(to_numeric)"
   ]
  },
  {
   "cell_type": "code",
   "execution_count": 42,
   "id": "53181565",
   "metadata": {
    "scrolled": true
   },
   "outputs": [
    {
     "data": {
      "text/plain": [
       "App                object\n",
       "Category           object\n",
       "Rating            float64\n",
       "Reviews             int64\n",
       "Size              float64\n",
       "Installs           object\n",
       "Type               object\n",
       "Price              object\n",
       "Content Rating     object\n",
       "Genres             object\n",
       "Last Updated       object\n",
       "Current Ver        object\n",
       "Android Ver        object\n",
       "dtype: object"
      ]
     },
     "execution_count": 42,
     "metadata": {},
     "output_type": "execute_result"
    }
   ],
   "source": [
    "df.dtypes"
   ]
  },
  {
   "cell_type": "code",
   "execution_count": 43,
   "id": "93647b16",
   "metadata": {},
   "outputs": [
    {
     "data": {
      "text/plain": [
       "App                  0\n",
       "Category             0\n",
       "Rating               0\n",
       "Reviews              0\n",
       "Size              1468\n",
       "Installs             0\n",
       "Type                 0\n",
       "Price                0\n",
       "Content Rating       0\n",
       "Genres               0\n",
       "Last Updated         0\n",
       "Current Ver          0\n",
       "Android Ver          0\n",
       "dtype: int64"
      ]
     },
     "execution_count": 43,
     "metadata": {},
     "output_type": "execute_result"
    }
   ],
   "source": [
    "df.isnull().sum()"
   ]
  },
  {
   "cell_type": "code",
   "execution_count": 44,
   "id": "2641e83a",
   "metadata": {
    "scrolled": true
   },
   "outputs": [
    {
     "data": {
      "text/plain": [
       "App               0\n",
       "Category          0\n",
       "Rating            0\n",
       "Reviews           0\n",
       "Size              0\n",
       "Installs          0\n",
       "Type              0\n",
       "Price             0\n",
       "Content Rating    0\n",
       "Genres            0\n",
       "Last Updated      0\n",
       "Current Ver       0\n",
       "Android Ver       0\n",
       "dtype: int64"
      ]
     },
     "execution_count": 44,
     "metadata": {},
     "output_type": "execute_result"
    }
   ],
   "source": [
    "# Fill the missing values in Size by the mean of their category\n",
    "\n",
    "df['Size'].fillna(df.groupby('Category')['Size'].transform('mean'),inplace = True)\n",
    "df.isnull().sum()"
   ]
  },
  {
   "cell_type": "code",
   "execution_count": 45,
   "id": "12be4456",
   "metadata": {},
   "outputs": [
    {
     "data": {
      "text/plain": [
       "dtype('float64')"
      ]
     },
     "execution_count": 45,
     "metadata": {},
     "output_type": "execute_result"
    }
   ],
   "source": [
    "df['Size'].dtype"
   ]
  },
  {
   "cell_type": "code",
   "execution_count": 46,
   "id": "b5ed1073",
   "metadata": {},
   "outputs": [
    {
     "data": {
      "text/plain": [
       "count    8.886000e+03\n",
       "mean     2.238603e+07\n",
       "std      2.176978e+07\n",
       "min      8.500000e+03\n",
       "25%      6.300000e+06\n",
       "50%      1.600000e+07\n",
       "75%      2.975132e+07\n",
       "max      1.000000e+08\n",
       "Name: Size, dtype: float64"
      ]
     },
     "execution_count": 46,
     "metadata": {},
     "output_type": "execute_result"
    }
   ],
   "source": [
    "df['Size'].describe()"
   ]
  },
  {
   "cell_type": "code",
   "execution_count": 47,
   "id": "435b293e",
   "metadata": {},
   "outputs": [
    {
     "name": "stderr",
     "output_type": "stream",
     "text": [
      "C:\\Users\\shrut\\anaconda3\\Lib\\site-packages\\seaborn\\_oldcore.py:1119: FutureWarning: use_inf_as_na option is deprecated and will be removed in a future version. Convert inf values to NaN before operating instead.\n",
      "  with pd.option_context('mode.use_inf_as_na', True):\n"
     ]
    },
    {
     "data": {
      "text/plain": [
       "<Axes: xlabel='Size', ylabel='Density'>"
      ]
     },
     "execution_count": 47,
     "metadata": {},
     "output_type": "execute_result"
    },
    {
     "data": {
      "image/png": "[encoded data removed]",
      "text/plain": [
       "<Figure size 640x480 with 1 Axes>"
      ]
     },
     "metadata": {},
     "output_type": "display_data"
    }
   ],
   "source": [
    "sns.kdeplot(df['Size'])"
   ]
  },
  {
   "cell_type": "code",
   "execution_count": 48,
   "id": "9659e19d",
   "metadata": {},
   "outputs": [
    {
     "data": {
      "text/plain": [
       "<Axes: xlabel='Size', ylabel='Rating'>"
      ]
     },
     "execution_count": 48,
     "metadata": {},
     "output_type": "execute_result"
    },
    {
     "data": {
      "image/png": "[encoded data removed]",
      "text/plain": [
       "<Figure size 640x480 with 1 Axes>"
      ]
     },
     "metadata": {},
     "output_type": "display_data"
    }
   ],
   "source": [
    "sns.scatterplot(x=df['Size'],y=df['Rating'])"
   ]
  },
  {
   "cell_type": "code",
   "execution_count": 49,
   "id": "c6b1a6d4",
   "metadata": {},
   "outputs": [
    {
     "name": "stdout",
     "output_type": "stream",
     "text": [
      "19\n"
     ]
    },
    {
     "data": {
      "text/plain": [
       "array(['10,000+', '500,000+', '5,000,000+', '50,000,000+', '100,000+',\n",
       "       '50,000+', '1,000,000+', '10,000,000+', '5,000+', '100,000,000+',\n",
       "       '1,000,000,000+', '1,000+', '500,000,000+', '100+', '500+', '10+',\n",
       "       '5+', '50+', '1+'], dtype=object)"
      ]
     },
     "execution_count": 49,
     "metadata": {},
     "output_type": "execute_result"
    }
   ],
   "source": [
    "print(df['Installs'].nunique())\n",
    "df['Installs'].unique()"
   ]
  },
  {
   "cell_type": "code",
   "execution_count": 50,
   "id": "26d0a7fa",
   "metadata": {},
   "outputs": [
    {
     "data": {
      "text/plain": [
       "<Axes: xlabel='count', ylabel='Installs'>"
      ]
     },
     "execution_count": 50,
     "metadata": {},
     "output_type": "execute_result"
    },
    {
     "data": {
      "image/png": "[encoded data removed]",
      "text/plain": [
       "<Figure size 640x480 with 1 Axes>"
      ]
     },
     "metadata": {},
     "output_type": "display_data"
    }
   ],
   "source": [
    "sns.countplot(data=df,y='Installs')"
   ]
  },
  {
   "cell_type": "code",
   "execution_count": 52,
   "id": "f58e50d9",
   "metadata": {},
   "outputs": [
    {
     "data": {
      "text/plain": [
       "dtype('O')"
      ]
     },
     "execution_count": 52,
     "metadata": {},
     "output_type": "execute_result"
    }
   ],
   "source": [
    "df['Installs'].dtype"
   ]
  },
  {
   "cell_type": "code",
   "execution_count": 53,
   "id": "08a3e62a",
   "metadata": {},
   "outputs": [],
   "source": [
    "# Convert them into int\n",
    "\n",
    "def remove_chars(value):\n",
    "    return value.replace('+','').replace(',','')\n",
    "    \n",
    "df['Installs']=df['Installs'].apply(remove_chars).astype(int)"
   ]
  },
  {
   "cell_type": "code",
   "execution_count": 54,
   "id": "78ea8cfb",
   "metadata": {},
   "outputs": [],
   "source": [
    "# To do now is manual label encoding by arranging the unique installs and alloting them numbers\n",
    "\n",
    "uniques_installs=df['Installs'].unique()\n",
    "uniques_installs=list(uniques_installs)\n",
    "uniques_installs.sort()"
   ]
  },
  {
   "cell_type": "code",
   "execution_count": 55,
   "id": "6c793c3a",
   "metadata": {},
   "outputs": [],
   "source": [
    "df['Installs_labelled']=df['Installs'].replace(uniques_installs,range(0,len(uniques_installs),1))"
   ]
  },
  {
   "cell_type": "code",
   "execution_count": 56,
   "id": "89f5c00a",
   "metadata": {},
   "outputs": [
    {
     "data": {
      "text/html": [
       "<div>\n",
       "<style scoped>\n",
       "    .dataframe tbody tr th:only-of-type {\n",
       "        vertical-align: middle;\n",
       "    }\n",
       "\n",
       "    .dataframe tbody tr th {\n",
       "        vertical-align: top;\n",
       "    }\n",
       "\n",
       "    .dataframe thead th {\n",
       "        text-align: right;\n",
       "    }\n",
       "</style>\n",
       "<table border=\"1\" class=\"dataframe\">\n",
       "  <thead>\n",
       "    <tr style=\"text-align: right;\">\n",
       "      <th></th>\n",
       "      <th>App</th>\n",
       "      <th>Category</th>\n",
       "      <th>Rating</th>\n",
       "      <th>Reviews</th>\n",
       "      <th>Size</th>\n",
       "      <th>Installs</th>\n",
       "      <th>Type</th>\n",
       "      <th>Price</th>\n",
       "      <th>Content Rating</th>\n",
       "      <th>Genres</th>\n",
       "      <th>Last Updated</th>\n",
       "      <th>Current Ver</th>\n",
       "      <th>Android Ver</th>\n",
       "      <th>Installs_labelled</th>\n",
       "    </tr>\n",
       "  </thead>\n",
       "  <tbody>\n",
       "    <tr>\n",
       "      <th>0</th>\n",
       "      <td>Photo Editor &amp; Candy Camera &amp; Grid &amp; ScrapBook</td>\n",
       "      <td>Others</td>\n",
       "      <td>4.1</td>\n",
       "      <td>159</td>\n",
       "      <td>19000000.0</td>\n",
       "      <td>10000</td>\n",
       "      <td>Free</td>\n",
       "      <td>0</td>\n",
       "      <td>Everyone</td>\n",
       "      <td>Art &amp; Design</td>\n",
       "      <td>January 7, 2018</td>\n",
       "      <td>1.0.0</td>\n",
       "      <td>4.0.3 and up</td>\n",
       "      <td>8</td>\n",
       "    </tr>\n",
       "    <tr>\n",
       "      <th>1</th>\n",
       "      <td>Coloring book moana</td>\n",
       "      <td>Others</td>\n",
       "      <td>3.9</td>\n",
       "      <td>967</td>\n",
       "      <td>14000000.0</td>\n",
       "      <td>500000</td>\n",
       "      <td>Free</td>\n",
       "      <td>0</td>\n",
       "      <td>Everyone</td>\n",
       "      <td>Art &amp; Design;Pretend Play</td>\n",
       "      <td>January 15, 2018</td>\n",
       "      <td>2.0.0</td>\n",
       "      <td>4.0.3 and up</td>\n",
       "      <td>11</td>\n",
       "    </tr>\n",
       "    <tr>\n",
       "      <th>2</th>\n",
       "      <td>U Launcher Lite – FREE Live Cool Themes, Hide ...</td>\n",
       "      <td>Others</td>\n",
       "      <td>4.7</td>\n",
       "      <td>87510</td>\n",
       "      <td>8700000.0</td>\n",
       "      <td>5000000</td>\n",
       "      <td>Free</td>\n",
       "      <td>0</td>\n",
       "      <td>Everyone</td>\n",
       "      <td>Art &amp; Design</td>\n",
       "      <td>August 1, 2018</td>\n",
       "      <td>1.2.4</td>\n",
       "      <td>4.0.3 and up</td>\n",
       "      <td>13</td>\n",
       "    </tr>\n",
       "    <tr>\n",
       "      <th>3</th>\n",
       "      <td>Sketch - Draw &amp; Paint</td>\n",
       "      <td>Others</td>\n",
       "      <td>4.5</td>\n",
       "      <td>215644</td>\n",
       "      <td>25000000.0</td>\n",
       "      <td>50000000</td>\n",
       "      <td>Free</td>\n",
       "      <td>0</td>\n",
       "      <td>Teen</td>\n",
       "      <td>Art &amp; Design</td>\n",
       "      <td>June 8, 2018</td>\n",
       "      <td>Varies with device</td>\n",
       "      <td>4.2 and up</td>\n",
       "      <td>15</td>\n",
       "    </tr>\n",
       "    <tr>\n",
       "      <th>4</th>\n",
       "      <td>Pixel Draw - Number Art Coloring Book</td>\n",
       "      <td>Others</td>\n",
       "      <td>4.3</td>\n",
       "      <td>967</td>\n",
       "      <td>2800000.0</td>\n",
       "      <td>100000</td>\n",
       "      <td>Free</td>\n",
       "      <td>0</td>\n",
       "      <td>Everyone</td>\n",
       "      <td>Art &amp; Design;Creativity</td>\n",
       "      <td>June 20, 2018</td>\n",
       "      <td>1.1</td>\n",
       "      <td>4.4 and up</td>\n",
       "      <td>10</td>\n",
       "    </tr>\n",
       "  </tbody>\n",
       "</table>\n",
       "</div>"
      ],
      "text/plain": [
       "                                                 App Category  Rating  \\\n",
       "0     Photo Editor & Candy Camera & Grid & ScrapBook   Others     4.1   \n",
       "1                                Coloring book moana   Others     3.9   \n",
       "2  U Launcher Lite – FREE Live Cool Themes, Hide ...   Others     4.7   \n",
       "3                              Sketch - Draw & Paint   Others     4.5   \n",
       "4              Pixel Draw - Number Art Coloring Book   Others     4.3   \n",
       "\n",
       "   Reviews        Size  Installs  Type Price Content Rating  \\\n",
       "0      159  19000000.0     10000  Free     0       Everyone   \n",
       "1      967  14000000.0    500000  Free     0       Everyone   \n",
       "2    87510   8700000.0   5000000  Free     0       Everyone   \n",
       "3   215644  25000000.0  50000000  Free     0           Teen   \n",
       "4      967   2800000.0    100000  Free     0       Everyone   \n",
       "\n",
       "                      Genres      Last Updated         Current Ver  \\\n",
       "0               Art & Design   January 7, 2018               1.0.0   \n",
       "1  Art & Design;Pretend Play  January 15, 2018               2.0.0   \n",
       "2               Art & Design    August 1, 2018               1.2.4   \n",
       "3               Art & Design      June 8, 2018  Varies with device   \n",
       "4    Art & Design;Creativity     June 20, 2018                 1.1   \n",
       "\n",
       "    Android Ver  Installs_labelled  \n",
       "0  4.0.3 and up                  8  \n",
       "1  4.0.3 and up                 11  \n",
       "2  4.0.3 and up                 13  \n",
       "3    4.2 and up                 15  \n",
       "4    4.4 and up                 10  "
      ]
     },
     "execution_count": 56,
     "metadata": {},
     "output_type": "execute_result"
    }
   ],
   "source": [
    "df.head()"
   ]
  },
  {
   "cell_type": "code",
   "execution_count": 57,
   "id": "23184c66",
   "metadata": {},
   "outputs": [
    {
     "data": {
      "text/plain": [
       "<Axes: xlabel='Installs_labelled', ylabel='Rating'>"
      ]
     },
     "execution_count": 57,
     "metadata": {},
     "output_type": "execute_result"
    },
    {
     "data": {
      "image/png": "[encoded data removed]",
      "text/plain": [
       "<Figure size 640x480 with 1 Axes>"
      ]
     },
     "metadata": {},
     "output_type": "display_data"
    }
   ],
   "source": [
    "sns.scatterplot(y=df['Rating'],x=df['Installs_labelled'])"
   ]
  },
  {
   "cell_type": "code",
   "execution_count": 58,
   "id": "168e5873",
   "metadata": {},
   "outputs": [
    {
     "data": {
      "text/plain": [
       "array(['Free', 'Paid'], dtype=object)"
      ]
     },
     "execution_count": 58,
     "metadata": {},
     "output_type": "execute_result"
    }
   ],
   "source": [
    "df['Type'].unique()"
   ]
  },
  {
   "cell_type": "code",
   "execution_count": 59,
   "id": "893b1911",
   "metadata": {},
   "outputs": [
    {
     "data": {
      "text/plain": [
       "Type\n",
       "Free    8275\n",
       "Paid     611\n",
       "Name: count, dtype: int64"
      ]
     },
     "execution_count": 59,
     "metadata": {},
     "output_type": "execute_result"
    }
   ],
   "source": [
    "df['Type'].value_counts()"
   ]
  },
  {
   "cell_type": "code",
   "execution_count": 63,
   "id": "be892709",
   "metadata": {},
   "outputs": [
    {
     "ename": "KeyError",
     "evalue": "\"None of [Index(['Type'], dtype='object')] are in the [columns]\"",
     "output_type": "error",
     "traceback": [
      "\u001b[1;31m---------------------------------------------------------------------------\u001b[0m",
      "\u001b[1;31mKeyError\u001b[0m                                  Traceback (most recent call last)",
      "Cell \u001b[1;32mIn[63], line 1\u001b[0m\n\u001b[1;32m----> 1\u001b[0m df\u001b[38;5;241m=\u001b[39mpd\u001b[38;5;241m.\u001b[39mget_dummies(df, columns\u001b[38;5;241m=\u001b[39m[\u001b[38;5;124m'\u001b[39m\u001b[38;5;124mType\u001b[39m\u001b[38;5;124m'\u001b[39m], drop_first\u001b[38;5;241m=\u001b[39m\u001b[38;5;28;01mTrue\u001b[39;00m)\n",
      "File \u001b[1;32m~\\anaconda3\\Lib\\site-packages\\pandas\\core\\reshape\\encoding.py:164\u001b[0m, in \u001b[0;36mget_dummies\u001b[1;34m(data, prefix, prefix_sep, dummy_na, columns, sparse, drop_first, dtype)\u001b[0m\n\u001b[0;32m    162\u001b[0m     \u001b[38;5;28;01mraise\u001b[39;00m \u001b[38;5;167;01mTypeError\u001b[39;00m(\u001b[38;5;124m\"\u001b[39m\u001b[38;5;124mInput must be a list-like for parameter `columns`\u001b[39m\u001b[38;5;124m\"\u001b[39m)\n\u001b[0;32m    163\u001b[0m \u001b[38;5;28;01melse\u001b[39;00m:\n\u001b[1;32m--> 164\u001b[0m     data_to_encode \u001b[38;5;241m=\u001b[39m data[columns]\n\u001b[0;32m    166\u001b[0m \u001b[38;5;66;03m# validate prefixes and separator to avoid silently dropping cols\u001b[39;00m\n\u001b[0;32m    167\u001b[0m \u001b[38;5;28;01mdef\u001b[39;00m \u001b[38;5;21mcheck_len\u001b[39m(item, name: \u001b[38;5;28mstr\u001b[39m):\n",
      "File \u001b[1;32m~\\anaconda3\\Lib\\site-packages\\pandas\\core\\frame.py:3899\u001b[0m, in \u001b[0;36mDataFrame.__getitem__\u001b[1;34m(self, key)\u001b[0m\n\u001b[0;32m   3897\u001b[0m     \u001b[38;5;28;01mif\u001b[39;00m is_iterator(key):\n\u001b[0;32m   3898\u001b[0m         key \u001b[38;5;241m=\u001b[39m \u001b[38;5;28mlist\u001b[39m(key)\n\u001b[1;32m-> 3899\u001b[0m     indexer \u001b[38;5;241m=\u001b[39m \u001b[38;5;28mself\u001b[39m\u001b[38;5;241m.\u001b[39mcolumns\u001b[38;5;241m.\u001b[39m_get_indexer_strict(key, \u001b[38;5;124m\"\u001b[39m\u001b[38;5;124mcolumns\u001b[39m\u001b[38;5;124m\"\u001b[39m)[\u001b[38;5;241m1\u001b[39m]\n\u001b[0;32m   3901\u001b[0m \u001b[38;5;66;03m# take() does not accept boolean indexers\u001b[39;00m\n\u001b[0;32m   3902\u001b[0m \u001b[38;5;28;01mif\u001b[39;00m \u001b[38;5;28mgetattr\u001b[39m(indexer, \u001b[38;5;124m\"\u001b[39m\u001b[38;5;124mdtype\u001b[39m\u001b[38;5;124m\"\u001b[39m, \u001b[38;5;28;01mNone\u001b[39;00m) \u001b[38;5;241m==\u001b[39m \u001b[38;5;28mbool\u001b[39m:\n",
      "File \u001b[1;32m~\\anaconda3\\Lib\\site-packages\\pandas\\core\\indexes\\base.py:6115\u001b[0m, in \u001b[0;36mIndex._get_indexer_strict\u001b[1;34m(self, key, axis_name)\u001b[0m\n\u001b[0;32m   6112\u001b[0m \u001b[38;5;28;01melse\u001b[39;00m:\n\u001b[0;32m   6113\u001b[0m     keyarr, indexer, new_indexer \u001b[38;5;241m=\u001b[39m \u001b[38;5;28mself\u001b[39m\u001b[38;5;241m.\u001b[39m_reindex_non_unique(keyarr)\n\u001b[1;32m-> 6115\u001b[0m \u001b[38;5;28mself\u001b[39m\u001b[38;5;241m.\u001b[39m_raise_if_missing(keyarr, indexer, axis_name)\n\u001b[0;32m   6117\u001b[0m keyarr \u001b[38;5;241m=\u001b[39m \u001b[38;5;28mself\u001b[39m\u001b[38;5;241m.\u001b[39mtake(indexer)\n\u001b[0;32m   6118\u001b[0m \u001b[38;5;28;01mif\u001b[39;00m \u001b[38;5;28misinstance\u001b[39m(key, Index):\n\u001b[0;32m   6119\u001b[0m     \u001b[38;5;66;03m# GH 42790 - Preserve name from an Index\u001b[39;00m\n",
      "File \u001b[1;32m~\\anaconda3\\Lib\\site-packages\\pandas\\core\\indexes\\base.py:6176\u001b[0m, in \u001b[0;36mIndex._raise_if_missing\u001b[1;34m(self, key, indexer, axis_name)\u001b[0m\n\u001b[0;32m   6174\u001b[0m     \u001b[38;5;28;01mif\u001b[39;00m use_interval_msg:\n\u001b[0;32m   6175\u001b[0m         key \u001b[38;5;241m=\u001b[39m \u001b[38;5;28mlist\u001b[39m(key)\n\u001b[1;32m-> 6176\u001b[0m     \u001b[38;5;28;01mraise\u001b[39;00m \u001b[38;5;167;01mKeyError\u001b[39;00m(\u001b[38;5;124mf\u001b[39m\u001b[38;5;124m\"\u001b[39m\u001b[38;5;124mNone of [\u001b[39m\u001b[38;5;132;01m{\u001b[39;00mkey\u001b[38;5;132;01m}\u001b[39;00m\u001b[38;5;124m] are in the [\u001b[39m\u001b[38;5;132;01m{\u001b[39;00maxis_name\u001b[38;5;132;01m}\u001b[39;00m\u001b[38;5;124m]\u001b[39m\u001b[38;5;124m\"\u001b[39m)\n\u001b[0;32m   6178\u001b[0m not_found \u001b[38;5;241m=\u001b[39m \u001b[38;5;28mlist\u001b[39m(ensure_index(key)[missing_mask\u001b[38;5;241m.\u001b[39mnonzero()[\u001b[38;5;241m0\u001b[39m]]\u001b[38;5;241m.\u001b[39munique())\n\u001b[0;32m   6179\u001b[0m \u001b[38;5;28;01mraise\u001b[39;00m \u001b[38;5;167;01mKeyError\u001b[39;00m(\u001b[38;5;124mf\u001b[39m\u001b[38;5;124m\"\u001b[39m\u001b[38;5;132;01m{\u001b[39;00mnot_found\u001b[38;5;132;01m}\u001b[39;00m\u001b[38;5;124m not in index\u001b[39m\u001b[38;5;124m\"\u001b[39m)\n",
      "\u001b[1;31mKeyError\u001b[0m: \"None of [Index(['Type'], dtype='object')] are in the [columns]\""
     ]
    }
   ],
   "source": [
    "df=pd.get_dummies(df, columns=['Type'], drop_first=True)"
   ]
  },
  {
   "cell_type": "code",
   "execution_count": 68,
   "id": "8ad93d84",
   "metadata": {
    "scrolled": true
   },
   "outputs": [
    {
     "data": {
      "text/html": [
       "<div>\n",
       "<style scoped>\n",
       "    .dataframe tbody tr th:only-of-type {\n",
       "        vertical-align: middle;\n",
       "    }\n",
       "\n",
       "    .dataframe tbody tr th {\n",
       "        vertical-align: top;\n",
       "    }\n",
       "\n",
       "    .dataframe thead th {\n",
       "        text-align: right;\n",
       "    }\n",
       "</style>\n",
       "<table border=\"1\" class=\"dataframe\">\n",
       "  <thead>\n",
       "    <tr style=\"text-align: right;\">\n",
       "      <th></th>\n",
       "      <th>App</th>\n",
       "      <th>Category</th>\n",
       "      <th>Rating</th>\n",
       "      <th>Reviews</th>\n",
       "      <th>Size</th>\n",
       "      <th>Installs</th>\n",
       "      <th>Price</th>\n",
       "      <th>Content Rating</th>\n",
       "      <th>Genres</th>\n",
       "      <th>Last Updated</th>\n",
       "      <th>Current Ver</th>\n",
       "      <th>Android Ver</th>\n",
       "      <th>Installs_labelled</th>\n",
       "      <th>Type_Paid</th>\n",
       "    </tr>\n",
       "  </thead>\n",
       "  <tbody>\n",
       "    <tr>\n",
       "      <th>0</th>\n",
       "      <td>Photo Editor &amp; Candy Camera &amp; Grid &amp; ScrapBook</td>\n",
       "      <td>Others</td>\n",
       "      <td>4.1</td>\n",
       "      <td>159</td>\n",
       "      <td>19000000.0</td>\n",
       "      <td>10000</td>\n",
       "      <td>0</td>\n",
       "      <td>Everyone</td>\n",
       "      <td>Art &amp; Design</td>\n",
       "      <td>January 7, 2018</td>\n",
       "      <td>1.0.0</td>\n",
       "      <td>4.0.3 and up</td>\n",
       "      <td>8</td>\n",
       "      <td>0</td>\n",
       "    </tr>\n",
       "    <tr>\n",
       "      <th>1</th>\n",
       "      <td>Coloring book moana</td>\n",
       "      <td>Others</td>\n",
       "      <td>3.9</td>\n",
       "      <td>967</td>\n",
       "      <td>14000000.0</td>\n",
       "      <td>500000</td>\n",
       "      <td>0</td>\n",
       "      <td>Everyone</td>\n",
       "      <td>Art &amp; Design;Pretend Play</td>\n",
       "      <td>January 15, 2018</td>\n",
       "      <td>2.0.0</td>\n",
       "      <td>4.0.3 and up</td>\n",
       "      <td>11</td>\n",
       "      <td>0</td>\n",
       "    </tr>\n",
       "    <tr>\n",
       "      <th>2</th>\n",
       "      <td>U Launcher Lite – FREE Live Cool Themes, Hide ...</td>\n",
       "      <td>Others</td>\n",
       "      <td>4.7</td>\n",
       "      <td>87510</td>\n",
       "      <td>8700000.0</td>\n",
       "      <td>5000000</td>\n",
       "      <td>0</td>\n",
       "      <td>Everyone</td>\n",
       "      <td>Art &amp; Design</td>\n",
       "      <td>August 1, 2018</td>\n",
       "      <td>1.2.4</td>\n",
       "      <td>4.0.3 and up</td>\n",
       "      <td>13</td>\n",
       "      <td>0</td>\n",
       "    </tr>\n",
       "    <tr>\n",
       "      <th>3</th>\n",
       "      <td>Sketch - Draw &amp; Paint</td>\n",
       "      <td>Others</td>\n",
       "      <td>4.5</td>\n",
       "      <td>215644</td>\n",
       "      <td>25000000.0</td>\n",
       "      <td>50000000</td>\n",
       "      <td>0</td>\n",
       "      <td>Teen</td>\n",
       "      <td>Art &amp; Design</td>\n",
       "      <td>June 8, 2018</td>\n",
       "      <td>Varies with device</td>\n",
       "      <td>4.2 and up</td>\n",
       "      <td>15</td>\n",
       "      <td>0</td>\n",
       "    </tr>\n",
       "    <tr>\n",
       "      <th>4</th>\n",
       "      <td>Pixel Draw - Number Art Coloring Book</td>\n",
       "      <td>Others</td>\n",
       "      <td>4.3</td>\n",
       "      <td>967</td>\n",
       "      <td>2800000.0</td>\n",
       "      <td>100000</td>\n",
       "      <td>0</td>\n",
       "      <td>Everyone</td>\n",
       "      <td>Art &amp; Design;Creativity</td>\n",
       "      <td>June 20, 2018</td>\n",
       "      <td>1.1</td>\n",
       "      <td>4.4 and up</td>\n",
       "      <td>10</td>\n",
       "      <td>0</td>\n",
       "    </tr>\n",
       "  </tbody>\n",
       "</table>\n",
       "</div>"
      ],
      "text/plain": [
       "                                                 App Category  Rating  \\\n",
       "0     Photo Editor & Candy Camera & Grid & ScrapBook   Others     4.1   \n",
       "1                                Coloring book moana   Others     3.9   \n",
       "2  U Launcher Lite – FREE Live Cool Themes, Hide ...   Others     4.7   \n",
       "3                              Sketch - Draw & Paint   Others     4.5   \n",
       "4              Pixel Draw - Number Art Coloring Book   Others     4.3   \n",
       "\n",
       "   Reviews        Size  Installs Price Content Rating  \\\n",
       "0      159  19000000.0     10000     0       Everyone   \n",
       "1      967  14000000.0    500000     0       Everyone   \n",
       "2    87510   8700000.0   5000000     0       Everyone   \n",
       "3   215644  25000000.0  50000000     0           Teen   \n",
       "4      967   2800000.0    100000     0       Everyone   \n",
       "\n",
       "                      Genres      Last Updated         Current Ver  \\\n",
       "0               Art & Design   January 7, 2018               1.0.0   \n",
       "1  Art & Design;Pretend Play  January 15, 2018               2.0.0   \n",
       "2               Art & Design    August 1, 2018               1.2.4   \n",
       "3               Art & Design      June 8, 2018  Varies with device   \n",
       "4    Art & Design;Creativity     June 20, 2018                 1.1   \n",
       "\n",
       "    Android Ver  Installs_labelled  Type_Paid  \n",
       "0  4.0.3 and up                  8          0  \n",
       "1  4.0.3 and up                 11          0  \n",
       "2  4.0.3 and up                 13          0  \n",
       "3    4.2 and up                 15          0  \n",
       "4    4.4 and up                 10          0  "
      ]
     },
     "execution_count": 68,
     "metadata": {},
     "output_type": "execute_result"
    }
   ],
   "source": [
    "df.head()"
   ]
  },
  {
   "cell_type": "code",
   "execution_count": 65,
   "id": "daac9d10",
   "metadata": {},
   "outputs": [
    {
     "data": {
      "text/plain": [
       "Type_Paid\n",
       "False    8275\n",
       "True      611\n",
       "Name: count, dtype: int64"
      ]
     },
     "execution_count": 65,
     "metadata": {},
     "output_type": "execute_result"
    }
   ],
   "source": [
    "df['Type_Paid'].value_counts()  \n",
    "# 0 --> Free\n",
    "# 1 --> Paid"
   ]
  },
  {
   "cell_type": "code",
   "execution_count": 66,
   "id": "d0739f0c",
   "metadata": {},
   "outputs": [],
   "source": [
    "df['Type_Paid']=df['Type_Paid'].astype('int64')"
   ]
  },
  {
   "cell_type": "code",
   "execution_count": 67,
   "id": "1b95c5a0",
   "metadata": {
    "scrolled": true
   },
   "outputs": [
    {
     "data": {
      "text/plain": [
       "App                   object\n",
       "Category              object\n",
       "Rating               float64\n",
       "Reviews                int64\n",
       "Size                 float64\n",
       "Installs               int32\n",
       "Price                 object\n",
       "Content Rating        object\n",
       "Genres                object\n",
       "Last Updated          object\n",
       "Current Ver           object\n",
       "Android Ver           object\n",
       "Installs_labelled      int32\n",
       "Type_Paid              int64\n",
       "dtype: object"
      ]
     },
     "execution_count": 67,
     "metadata": {},
     "output_type": "execute_result"
    }
   ],
   "source": [
    "df.dtypes"
   ]
  },
  {
   "cell_type": "code",
   "execution_count": 66,
   "id": "4dc45882",
   "metadata": {},
   "outputs": [
    {
     "data": {
      "text/plain": [
       "0.03835823629568576"
      ]
     },
     "execution_count": 66,
     "metadata": {},
     "output_type": "execute_result"
    }
   ],
   "source": [
    "df['Rating'].corr(df['Type_Paid'])"
   ]
  },
  {
   "cell_type": "code",
   "execution_count": 69,
   "id": "4a871f23",
   "metadata": {},
   "outputs": [
    {
     "name": "stdout",
     "output_type": "stream",
     "text": [
      "['0' '$4.99' '$3.99' '$6.99' '$7.99' '$5.99' '$2.99' '$3.49' '$1.99'\n",
      " '$9.99' '$7.49' '$0.99' '$9.00' '$5.49' '$10.00' '$24.99' '$11.99'\n",
      " '$79.99' '$16.99' '$14.99' '$29.99' '$12.99' '$2.49' '$10.99' '$1.50'\n",
      " '$19.99' '$15.99' '$33.99' '$39.99' '$3.95' '$4.49' '$1.70' '$8.99'\n",
      " '$1.49' '$3.88' '$399.99' '$17.99' '$400.00' '$3.02' '$1.76' '$4.84'\n",
      " '$4.77' '$1.61' '$2.50' '$1.59' '$6.49' '$1.29' '$299.99' '$379.99'\n",
      " '$37.99' '$18.99' '$389.99' '$8.49' '$1.75' '$14.00' '$2.00' '$3.08'\n",
      " '$2.59' '$19.40' '$3.90' '$4.59' '$15.46' '$3.04' '$13.99' '$4.29'\n",
      " '$3.28' '$4.60' '$1.00' '$2.95' '$2.90' '$1.97' '$2.56' '$1.20']\n",
      "73\n"
     ]
    }
   ],
   "source": [
    "print(df['Price'].unique())\n",
    "print(df['Price'].nunique())"
   ]
  },
  {
   "cell_type": "code",
   "execution_count": 70,
   "id": "50fed4ee",
   "metadata": {},
   "outputs": [],
   "source": [
    "df['Price']=df['Price'].apply(lambda x: x.replace('$',''))\n",
    "df['Price']=df['Price'].apply(lambda x: float(x))"
   ]
  },
  {
   "cell_type": "code",
   "execution_count": 71,
   "id": "639048d3",
   "metadata": {},
   "outputs": [
    {
     "data": {
      "text/plain": [
       "dtype('float64')"
      ]
     },
     "execution_count": 71,
     "metadata": {},
     "output_type": "execute_result"
    }
   ],
   "source": [
    "df['Price'].dtypes"
   ]
  },
  {
   "cell_type": "code",
   "execution_count": 72,
   "id": "4852c3ad",
   "metadata": {},
   "outputs": [
    {
     "name": "stdout",
     "output_type": "stream",
     "text": [
      "[  0.     4.99   3.99   6.99   7.99   5.99   2.99   3.49   1.99   9.99\n",
      "   7.49   0.99   9.     5.49  10.    24.99  11.99  79.99  16.99  14.99\n",
      "  29.99  12.99   2.49  10.99   1.5   19.99  15.99  33.99  39.99   3.95\n",
      "   4.49   1.7    8.99   1.49   3.88 399.99  17.99 400.     3.02   1.76\n",
      "   4.84   4.77   1.61   2.5    1.59   6.49   1.29 299.99 379.99  37.99\n",
      "  18.99 389.99   8.49   1.75  14.     2.     3.08   2.59  19.4    3.9\n",
      "   4.59  15.46   3.04  13.99   4.29   3.28   4.6    1.     2.95   2.9\n",
      "   1.97   2.56   1.2 ]\n",
      "73\n"
     ]
    }
   ],
   "source": [
    "print(df['Price'].unique())\n",
    "print(df['Price'].nunique())"
   ]
  },
  {
   "cell_type": "code",
   "execution_count": 73,
   "id": "30aaa4fe",
   "metadata": {},
   "outputs": [
    {
     "data": {
      "text/plain": [
       "count    8886.000000\n",
       "mean        0.963526\n",
       "std        16.194792\n",
       "min         0.000000\n",
       "25%         0.000000\n",
       "50%         0.000000\n",
       "75%         0.000000\n",
       "max       400.000000\n",
       "Name: Price, dtype: float64"
      ]
     },
     "execution_count": 73,
     "metadata": {},
     "output_type": "execute_result"
    }
   ],
   "source": [
    "df['Price'].describe()"
   ]
  },
  {
   "cell_type": "code",
   "execution_count": 74,
   "id": "85758260",
   "metadata": {},
   "outputs": [
    {
     "data": {
      "text/plain": [
       "-0.022371131277972824"
      ]
     },
     "execution_count": 74,
     "metadata": {},
     "output_type": "execute_result"
    }
   ],
   "source": [
    "df['Rating'].corr(df['Price'])"
   ]
  },
  {
   "cell_type": "code",
   "execution_count": 75,
   "id": "2bdb992b",
   "metadata": {},
   "outputs": [
    {
     "data": {
      "text/html": [
       "<div>\n",
       "<style scoped>\n",
       "    .dataframe tbody tr th:only-of-type {\n",
       "        vertical-align: middle;\n",
       "    }\n",
       "\n",
       "    .dataframe tbody tr th {\n",
       "        vertical-align: top;\n",
       "    }\n",
       "\n",
       "    .dataframe thead th {\n",
       "        text-align: right;\n",
       "    }\n",
       "</style>\n",
       "<table border=\"1\" class=\"dataframe\">\n",
       "  <thead>\n",
       "    <tr style=\"text-align: right;\">\n",
       "      <th></th>\n",
       "      <th>App</th>\n",
       "      <th>Category</th>\n",
       "      <th>Rating</th>\n",
       "      <th>Reviews</th>\n",
       "      <th>Size</th>\n",
       "      <th>Installs</th>\n",
       "      <th>Price</th>\n",
       "      <th>Content Rating</th>\n",
       "      <th>Genres</th>\n",
       "      <th>Last Updated</th>\n",
       "      <th>Current Ver</th>\n",
       "      <th>Android Ver</th>\n",
       "      <th>Installs_labelled</th>\n",
       "      <th>Type_Paid</th>\n",
       "    </tr>\n",
       "  </thead>\n",
       "  <tbody>\n",
       "    <tr>\n",
       "      <th>0</th>\n",
       "      <td>Photo Editor &amp; Candy Camera &amp; Grid &amp; ScrapBook</td>\n",
       "      <td>Others</td>\n",
       "      <td>4.1</td>\n",
       "      <td>159</td>\n",
       "      <td>19000000.0</td>\n",
       "      <td>10000</td>\n",
       "      <td>0.0</td>\n",
       "      <td>Everyone</td>\n",
       "      <td>Art &amp; Design</td>\n",
       "      <td>January 7, 2018</td>\n",
       "      <td>1.0.0</td>\n",
       "      <td>4.0.3 and up</td>\n",
       "      <td>8</td>\n",
       "      <td>0</td>\n",
       "    </tr>\n",
       "    <tr>\n",
       "      <th>1</th>\n",
       "      <td>Coloring book moana</td>\n",
       "      <td>Others</td>\n",
       "      <td>3.9</td>\n",
       "      <td>967</td>\n",
       "      <td>14000000.0</td>\n",
       "      <td>500000</td>\n",
       "      <td>0.0</td>\n",
       "      <td>Everyone</td>\n",
       "      <td>Art &amp; Design;Pretend Play</td>\n",
       "      <td>January 15, 2018</td>\n",
       "      <td>2.0.0</td>\n",
       "      <td>4.0.3 and up</td>\n",
       "      <td>11</td>\n",
       "      <td>0</td>\n",
       "    </tr>\n",
       "    <tr>\n",
       "      <th>2</th>\n",
       "      <td>U Launcher Lite – FREE Live Cool Themes, Hide ...</td>\n",
       "      <td>Others</td>\n",
       "      <td>4.7</td>\n",
       "      <td>87510</td>\n",
       "      <td>8700000.0</td>\n",
       "      <td>5000000</td>\n",
       "      <td>0.0</td>\n",
       "      <td>Everyone</td>\n",
       "      <td>Art &amp; Design</td>\n",
       "      <td>August 1, 2018</td>\n",
       "      <td>1.2.4</td>\n",
       "      <td>4.0.3 and up</td>\n",
       "      <td>13</td>\n",
       "      <td>0</td>\n",
       "    </tr>\n",
       "    <tr>\n",
       "      <th>3</th>\n",
       "      <td>Sketch - Draw &amp; Paint</td>\n",
       "      <td>Others</td>\n",
       "      <td>4.5</td>\n",
       "      <td>215644</td>\n",
       "      <td>25000000.0</td>\n",
       "      <td>50000000</td>\n",
       "      <td>0.0</td>\n",
       "      <td>Teen</td>\n",
       "      <td>Art &amp; Design</td>\n",
       "      <td>June 8, 2018</td>\n",
       "      <td>Varies with device</td>\n",
       "      <td>4.2 and up</td>\n",
       "      <td>15</td>\n",
       "      <td>0</td>\n",
       "    </tr>\n",
       "    <tr>\n",
       "      <th>4</th>\n",
       "      <td>Pixel Draw - Number Art Coloring Book</td>\n",
       "      <td>Others</td>\n",
       "      <td>4.3</td>\n",
       "      <td>967</td>\n",
       "      <td>2800000.0</td>\n",
       "      <td>100000</td>\n",
       "      <td>0.0</td>\n",
       "      <td>Everyone</td>\n",
       "      <td>Art &amp; Design;Creativity</td>\n",
       "      <td>June 20, 2018</td>\n",
       "      <td>1.1</td>\n",
       "      <td>4.4 and up</td>\n",
       "      <td>10</td>\n",
       "      <td>0</td>\n",
       "    </tr>\n",
       "  </tbody>\n",
       "</table>\n",
       "</div>"
      ],
      "text/plain": [
       "                                                 App Category  Rating  \\\n",
       "0     Photo Editor & Candy Camera & Grid & ScrapBook   Others     4.1   \n",
       "1                                Coloring book moana   Others     3.9   \n",
       "2  U Launcher Lite – FREE Live Cool Themes, Hide ...   Others     4.7   \n",
       "3                              Sketch - Draw & Paint   Others     4.5   \n",
       "4              Pixel Draw - Number Art Coloring Book   Others     4.3   \n",
       "\n",
       "   Reviews        Size  Installs  Price Content Rating  \\\n",
       "0      159  19000000.0     10000    0.0       Everyone   \n",
       "1      967  14000000.0    500000    0.0       Everyone   \n",
       "2    87510   8700000.0   5000000    0.0       Everyone   \n",
       "3   215644  25000000.0  50000000    0.0           Teen   \n",
       "4      967   2800000.0    100000    0.0       Everyone   \n",
       "\n",
       "                      Genres      Last Updated         Current Ver  \\\n",
       "0               Art & Design   January 7, 2018               1.0.0   \n",
       "1  Art & Design;Pretend Play  January 15, 2018               2.0.0   \n",
       "2               Art & Design    August 1, 2018               1.2.4   \n",
       "3               Art & Design      June 8, 2018  Varies with device   \n",
       "4    Art & Design;Creativity     June 20, 2018                 1.1   \n",
       "\n",
       "    Android Ver  Installs_labelled  Type_Paid  \n",
       "0  4.0.3 and up                  8          0  \n",
       "1  4.0.3 and up                 11          0  \n",
       "2  4.0.3 and up                 13          0  \n",
       "3    4.2 and up                 15          0  \n",
       "4    4.4 and up                 10          0  "
      ]
     },
     "execution_count": 75,
     "metadata": {},
     "output_type": "execute_result"
    }
   ],
   "source": [
    "df.head()"
   ]
  },
  {
   "cell_type": "code",
   "execution_count": 76,
   "id": "1a49c49a",
   "metadata": {},
   "outputs": [
    {
     "data": {
      "text/plain": [
       "array(['Everyone', 'Teen', 'Everyone 10+', 'Mature 17+',\n",
       "       'Adults only 18+', 'Unrated'], dtype=object)"
      ]
     },
     "execution_count": 76,
     "metadata": {},
     "output_type": "execute_result"
    }
   ],
   "source": [
    "df['Content Rating'].unique()"
   ]
  },
  {
   "cell_type": "code",
   "execution_count": 77,
   "id": "a82e62a1",
   "metadata": {},
   "outputs": [
    {
     "data": {
      "text/plain": [
       "Content Rating\n",
       "Everyone           7089\n",
       "Teen               1022\n",
       "Mature 17+          411\n",
       "Everyone 10+        360\n",
       "Adults only 18+       3\n",
       "Unrated               1\n",
       "Name: count, dtype: int64"
      ]
     },
     "execution_count": 77,
     "metadata": {},
     "output_type": "execute_result"
    }
   ],
   "source": [
    "df['Content Rating'].value_counts()"
   ]
  },
  {
   "cell_type": "code",
   "execution_count": 78,
   "id": "4a76319d",
   "metadata": {},
   "outputs": [],
   "source": [
    "rename_content_rating= {\n",
    "                        'Unrated':'Everyone',\n",
    "                        'Adults only 18+': 'Adult',\n",
    "                        'Mature 17+': 'Adult',\n",
    "                        'Everyone 10+': 'PreTeen'\n",
    "                        }"
   ]
  },
  {
   "cell_type": "code",
   "execution_count": 79,
   "id": "7f11544d",
   "metadata": {},
   "outputs": [],
   "source": [
    "df['Content Rating']=df['Content Rating'].replace(rename_content_rating)"
   ]
  },
  {
   "cell_type": "code",
   "execution_count": 80,
   "id": "50dae804",
   "metadata": {},
   "outputs": [
    {
     "data": {
      "text/plain": [
       "Content Rating\n",
       "Everyone    7090\n",
       "Teen        1022\n",
       "Adult        414\n",
       "PreTeen      360\n",
       "Name: count, dtype: int64"
      ]
     },
     "execution_count": 80,
     "metadata": {},
     "output_type": "execute_result"
    }
   ],
   "source": [
    "df['Content Rating'].value_counts()"
   ]
  },
  {
   "cell_type": "code",
   "execution_count": 81,
   "id": "17ce1a51",
   "metadata": {},
   "outputs": [
    {
     "data": {
      "text/plain": [
       "<Axes: xlabel='Content Rating', ylabel='Rating'>"
      ]
     },
     "execution_count": 81,
     "metadata": {},
     "output_type": "execute_result"
    },
    {
     "data": {
      "image/png": "[encoded data removed]",
      "text/plain": [
       "<Figure size 640x480 with 1 Axes>"
      ]
     },
     "metadata": {},
     "output_type": "display_data"
    }
   ],
   "source": [
    "sns.barplot(x=df['Content Rating'],y=df['Rating'])"
   ]
  },
  {
   "cell_type": "code",
   "execution_count": 82,
   "id": "cf426569",
   "metadata": {},
   "outputs": [
    {
     "data": {
      "text/plain": [
       "array([2018, 2017, 2014, 2016, 2015, 2013, 2012, 2011, 2010])"
      ]
     },
     "execution_count": 82,
     "metadata": {},
     "output_type": "execute_result"
    }
   ],
   "source": [
    "# Extracting the year from Last updated column\n",
    "\n",
    "df['Last Update Year']=df['Last Updated'].str.split(',').str[1]\n",
    "df['Last Update Year']=df['Last Update Year'].astype('int')\n",
    "df['Last Update Year'].unique()"
   ]
  },
  {
   "cell_type": "code",
   "execution_count": 83,
   "id": "c4df91b9",
   "metadata": {},
   "outputs": [
    {
     "data": {
      "text/plain": [
       "<Axes: xlabel='Last Update Year', ylabel='Rating'>"
      ]
     },
     "execution_count": 83,
     "metadata": {},
     "output_type": "execute_result"
    },
    {
     "data": {
      "image/png": "[encoded data removed]",
      "text/plain": [
       "<Figure size 640x480 with 1 Axes>"
      ]
     },
     "metadata": {},
     "output_type": "display_data"
    }
   ],
   "source": [
    "sns.scatterplot(x=df['Last Update Year'],y=df['Rating'])"
   ]
  },
  {
   "cell_type": "code",
   "execution_count": 85,
   "id": "d8c42009",
   "metadata": {},
   "outputs": [],
   "source": [
    "# Manual babel encoding just like Installs\n",
    "\n",
    "uniques_year=df['Last Update Year'].unique()\n",
    "uniques_year=list(uniques_year)\n",
    "uniques_year.sort()"
   ]
  },
  {
   "cell_type": "code",
   "execution_count": 86,
   "id": "1ec7bb3e",
   "metadata": {},
   "outputs": [],
   "source": [
    "df['Year Updt Labelled']=df['Last Update Year'].replace(uniques_year,range(0,len(uniques_year),1))"
   ]
  },
  {
   "cell_type": "code",
   "execution_count": 87,
   "id": "891f3a2a",
   "metadata": {},
   "outputs": [
    {
     "data": {
      "text/html": [
       "<div>\n",
       "<style scoped>\n",
       "    .dataframe tbody tr th:only-of-type {\n",
       "        vertical-align: middle;\n",
       "    }\n",
       "\n",
       "    .dataframe tbody tr th {\n",
       "        vertical-align: top;\n",
       "    }\n",
       "\n",
       "    .dataframe thead th {\n",
       "        text-align: right;\n",
       "    }\n",
       "</style>\n",
       "<table border=\"1\" class=\"dataframe\">\n",
       "  <thead>\n",
       "    <tr style=\"text-align: right;\">\n",
       "      <th></th>\n",
       "      <th>App</th>\n",
       "      <th>Category</th>\n",
       "      <th>Rating</th>\n",
       "      <th>Reviews</th>\n",
       "      <th>Size</th>\n",
       "      <th>Installs</th>\n",
       "      <th>Price</th>\n",
       "      <th>Content Rating</th>\n",
       "      <th>Genres</th>\n",
       "      <th>Last Updated</th>\n",
       "      <th>Current Ver</th>\n",
       "      <th>Android Ver</th>\n",
       "      <th>Installs_labelled</th>\n",
       "      <th>Type_Paid</th>\n",
       "      <th>Last Update Year</th>\n",
       "      <th>Year Updt Labelled</th>\n",
       "    </tr>\n",
       "  </thead>\n",
       "  <tbody>\n",
       "    <tr>\n",
       "      <th>5094</th>\n",
       "      <td>AG Subway Simulator Mobile</td>\n",
       "      <td>Family</td>\n",
       "      <td>4.5</td>\n",
       "      <td>623</td>\n",
       "      <td>4.700000e+07</td>\n",
       "      <td>5000</td>\n",
       "      <td>0.99</td>\n",
       "      <td>Everyone</td>\n",
       "      <td>Simulation</td>\n",
       "      <td>June 2, 2018</td>\n",
       "      <td>1.3.0.6</td>\n",
       "      <td>4.1 and up</td>\n",
       "      <td>7</td>\n",
       "      <td>1</td>\n",
       "      <td>2018</td>\n",
       "      <td>8</td>\n",
       "    </tr>\n",
       "    <tr>\n",
       "      <th>3845</th>\n",
       "      <td>Truck Car Navi by Navitime Large size car, tra...</td>\n",
       "      <td>Maps</td>\n",
       "      <td>4.2</td>\n",
       "      <td>3682</td>\n",
       "      <td>1.744884e+07</td>\n",
       "      <td>100000</td>\n",
       "      <td>0.00</td>\n",
       "      <td>Everyone</td>\n",
       "      <td>Maps &amp; Navigation</td>\n",
       "      <td>August 2, 2018</td>\n",
       "      <td>Varies with device</td>\n",
       "      <td>Varies with device</td>\n",
       "      <td>10</td>\n",
       "      <td>0</td>\n",
       "      <td>2018</td>\n",
       "      <td>8</td>\n",
       "    </tr>\n",
       "    <tr>\n",
       "      <th>3919</th>\n",
       "      <td>Real City Car Driver</td>\n",
       "      <td>Game</td>\n",
       "      <td>3.7</td>\n",
       "      <td>413609</td>\n",
       "      <td>2.200000e+07</td>\n",
       "      <td>10000000</td>\n",
       "      <td>0.00</td>\n",
       "      <td>Adult</td>\n",
       "      <td>Racing</td>\n",
       "      <td>August 1, 2018</td>\n",
       "      <td>2.8</td>\n",
       "      <td>4.1 and up</td>\n",
       "      <td>14</td>\n",
       "      <td>0</td>\n",
       "      <td>2018</td>\n",
       "      <td>8</td>\n",
       "    </tr>\n",
       "    <tr>\n",
       "      <th>7349</th>\n",
       "      <td>search.ch</td>\n",
       "      <td>Travel</td>\n",
       "      <td>4.4</td>\n",
       "      <td>11514</td>\n",
       "      <td>2.200000e+06</td>\n",
       "      <td>500000</td>\n",
       "      <td>0.00</td>\n",
       "      <td>Everyone</td>\n",
       "      <td>Travel &amp; Local</td>\n",
       "      <td>March 29, 2018</td>\n",
       "      <td>5.5</td>\n",
       "      <td>4.0 and up</td>\n",
       "      <td>11</td>\n",
       "      <td>0</td>\n",
       "      <td>2018</td>\n",
       "      <td>8</td>\n",
       "    </tr>\n",
       "    <tr>\n",
       "      <th>5578</th>\n",
       "      <td>Sleep as Android Unlock</td>\n",
       "      <td>Lifestyle</td>\n",
       "      <td>4.5</td>\n",
       "      <td>23966</td>\n",
       "      <td>8.720000e+05</td>\n",
       "      <td>1000000</td>\n",
       "      <td>5.99</td>\n",
       "      <td>Everyone</td>\n",
       "      <td>Lifestyle</td>\n",
       "      <td>June 27, 2018</td>\n",
       "      <td>20180608</td>\n",
       "      <td>4.0 and up</td>\n",
       "      <td>12</td>\n",
       "      <td>1</td>\n",
       "      <td>2018</td>\n",
       "      <td>8</td>\n",
       "    </tr>\n",
       "  </tbody>\n",
       "</table>\n",
       "</div>"
      ],
      "text/plain": [
       "                                                    App   Category  Rating  \\\n",
       "5094                         AG Subway Simulator Mobile     Family     4.5   \n",
       "3845  Truck Car Navi by Navitime Large size car, tra...       Maps     4.2   \n",
       "3919                               Real City Car Driver       Game     3.7   \n",
       "7349                                          search.ch     Travel     4.4   \n",
       "5578                            Sleep as Android Unlock  Lifestyle     4.5   \n",
       "\n",
       "      Reviews          Size  Installs  Price Content Rating  \\\n",
       "5094      623  4.700000e+07      5000   0.99       Everyone   \n",
       "3845     3682  1.744884e+07    100000   0.00       Everyone   \n",
       "3919   413609  2.200000e+07  10000000   0.00          Adult   \n",
       "7349    11514  2.200000e+06    500000   0.00       Everyone   \n",
       "5578    23966  8.720000e+05   1000000   5.99       Everyone   \n",
       "\n",
       "                 Genres    Last Updated         Current Ver  \\\n",
       "5094         Simulation    June 2, 2018             1.3.0.6   \n",
       "3845  Maps & Navigation  August 2, 2018  Varies with device   \n",
       "3919             Racing  August 1, 2018                 2.8   \n",
       "7349     Travel & Local  March 29, 2018                 5.5   \n",
       "5578          Lifestyle   June 27, 2018            20180608   \n",
       "\n",
       "             Android Ver  Installs_labelled  Type_Paid  Last Update Year  \\\n",
       "5094          4.1 and up                  7          1              2018   \n",
       "3845  Varies with device                 10          0              2018   \n",
       "3919          4.1 and up                 14          0              2018   \n",
       "7349          4.0 and up                 11          0              2018   \n",
       "5578          4.0 and up                 12          1              2018   \n",
       "\n",
       "      Year Updt Labelled  \n",
       "5094                   8  \n",
       "3845                   8  \n",
       "3919                   8  \n",
       "7349                   8  \n",
       "5578                   8  "
      ]
     },
     "execution_count": 87,
     "metadata": {},
     "output_type": "execute_result"
    }
   ],
   "source": [
    "df.sample(5)"
   ]
  },
  {
   "cell_type": "code",
   "execution_count": 88,
   "id": "73ea7866",
   "metadata": {},
   "outputs": [
    {
     "data": {
      "text/plain": [
       "Current Ver\n",
       "Varies with device    1258\n",
       "1.0                    451\n",
       "1.1                    190\n",
       "1.2                    126\n",
       "2.0                    117\n",
       "                      ... \n",
       "0.1.187945513            1\n",
       "68.0.3440.91             1\n",
       "4.8.2.2195               1\n",
       "2.32                     1\n",
       "0.3.4                    1\n",
       "Name: count, Length: 2638, dtype: int64"
      ]
     },
     "execution_count": 88,
     "metadata": {},
     "output_type": "execute_result"
    }
   ],
   "source": [
    "df['Current Ver'].unique()\n",
    "df['Current Ver'].value_counts()"
   ]
  },
  {
   "cell_type": "code",
   "execution_count": 89,
   "id": "2721b42a",
   "metadata": {},
   "outputs": [
    {
     "data": {
      "text/plain": [
       "array(['1', '2', 'Varies with device', '6', '3', '5', '4', '11', '0', '8',\n",
       "       '10', '18', '9', '15', '14', '7', '99', '12', '37', '24', '47',\n",
       "       'R6', '69', '42', '196', '2018', '20', '13', 'v1', '01', '43',\n",
       "       '16', 'Cannonau 3', 'p5', '112', 'Public', '220', '858', 'v3',\n",
       "       'Version:6', '02', '3196', '5423', '19', '1_39_93', '79', '108',\n",
       "       '57', '60', '149', '37893', '20180609', '28', '25', '300000', 'PN',\n",
       "       'T4', '50', '27', '29', '584', '22', '71', '1004', '06', '2017',\n",
       "       '17', '53', 'v5', 'MyMetro_HTML_2', 'v8', 'v7', '32', '20180517',\n",
       "       'v150', '40', '68', 'FreeTimeApp-aosp_v3',\n",
       "       'Natalia Studio Development', '30', '116', '04', '27500000',\n",
       "       'version 0', '5055', 'a', '31', '1009001', '1900001', 'v8[1', '23',\n",
       "       '1805', '1,01', 'v2018', 'H7SubTV0', 'v2', '263', '65',\n",
       "       'acremotecontrol18', 'v67_slk3',\n",
       "       'airConditionerMaintenance_13112015', '11;11',\n",
       "       'acremotecontrol-v7', 'v4', '117', 'cli-6', 'Version 1', '132',\n",
       "       '10001008', '18060104', '568', '39', '20180608', '20180620',\n",
       "       'Z (Special Edition R9)', 'Cow V3', '3_1', 'Final', 'Arrow-202',\n",
       "       '26', '35', 'V1', 'no_update_signal', '70',\n",
       "       'fcbd82b2-dd5b-41d2-af62-432271c42921', '41', 'The CJ Rubric 7',\n",
       "       '202', '48', 'CL Pro for Craigslist - Canada 150',\n",
       "       'Bowser4Craigslist', 'App copyright', 'Copyright', 'CL Strength 7',\n",
       "       'Gratis', 'Y4W-GATE_CS-5', 'SolarCT 1', '200', '3000', 'KM', 'iu4',\n",
       "       'v6', '20180805', 'INDIRIMBO V', '700', 'Translator 10',\n",
       "       '20180518-01', 'Glueboardv', '20170828', 'HTTPs', '67',\n",
       "       'DPSTATUS1', '15|06|17', 'di-v3', 'r2', 'pb1', 'R1', 'Human Dx',\n",
       "       '2018-04-27', '2018-03', '33', 'erie1', '4541', '130', '25072018',\n",
       "       '56', '21', 'Paid-9', 'Fennec-52', 'BlueOrange', '314007',\n",
       "       '1000000', 'Pro 1', 'V1-180703', 'F2i', '81', 'V4', '176',\n",
       "       '060816', '125', '34', '20170920', '3rd Release Aug 2016'],\n",
       "      dtype=object)"
      ]
     },
     "execution_count": 89,
     "metadata": {},
     "output_type": "execute_result"
    }
   ],
   "source": [
    "df['major Ver']=df['Current Ver'].str.split('.').str[0]\n",
    "df['major Ver'].unique()"
   ]
  },
  {
   "cell_type": "code",
   "execution_count": 90,
   "id": "af109282",
   "metadata": {
    "tags": []
   },
   "outputs": [
    {
     "data": {
      "text/html": [
       "<div>\n",
       "<style scoped>\n",
       "    .dataframe tbody tr th:only-of-type {\n",
       "        vertical-align: middle;\n",
       "    }\n",
       "\n",
       "    .dataframe tbody tr th {\n",
       "        vertical-align: top;\n",
       "    }\n",
       "\n",
       "    .dataframe thead th {\n",
       "        text-align: right;\n",
       "    }\n",
       "</style>\n",
       "<table border=\"1\" class=\"dataframe\">\n",
       "  <thead>\n",
       "    <tr style=\"text-align: right;\">\n",
       "      <th></th>\n",
       "      <th>App</th>\n",
       "      <th>Category</th>\n",
       "      <th>Rating</th>\n",
       "      <th>Reviews</th>\n",
       "      <th>Size</th>\n",
       "      <th>Installs</th>\n",
       "      <th>Price</th>\n",
       "      <th>Content Rating</th>\n",
       "      <th>Genres</th>\n",
       "      <th>Last Updated</th>\n",
       "      <th>Current Ver</th>\n",
       "      <th>Android Ver</th>\n",
       "      <th>Installs_labelled</th>\n",
       "      <th>Type_Paid</th>\n",
       "      <th>Last Update Year</th>\n",
       "      <th>Year Updt Labelled</th>\n",
       "      <th>major Ver</th>\n",
       "    </tr>\n",
       "  </thead>\n",
       "  <tbody>\n",
       "    <tr>\n",
       "      <th>0</th>\n",
       "      <td>Photo Editor &amp; Candy Camera &amp; Grid &amp; ScrapBook</td>\n",
       "      <td>Others</td>\n",
       "      <td>4.1</td>\n",
       "      <td>159</td>\n",
       "      <td>19000000.0</td>\n",
       "      <td>10000</td>\n",
       "      <td>0.0</td>\n",
       "      <td>Everyone</td>\n",
       "      <td>Art &amp; Design</td>\n",
       "      <td>January 7, 2018</td>\n",
       "      <td>1.0.0</td>\n",
       "      <td>4.0.3 and up</td>\n",
       "      <td>8</td>\n",
       "      <td>0</td>\n",
       "      <td>2018</td>\n",
       "      <td>8</td>\n",
       "      <td>1</td>\n",
       "    </tr>\n",
       "    <tr>\n",
       "      <th>1</th>\n",
       "      <td>Coloring book moana</td>\n",
       "      <td>Others</td>\n",
       "      <td>3.9</td>\n",
       "      <td>967</td>\n",
       "      <td>14000000.0</td>\n",
       "      <td>500000</td>\n",
       "      <td>0.0</td>\n",
       "      <td>Everyone</td>\n",
       "      <td>Art &amp; Design;Pretend Play</td>\n",
       "      <td>January 15, 2018</td>\n",
       "      <td>2.0.0</td>\n",
       "      <td>4.0.3 and up</td>\n",
       "      <td>11</td>\n",
       "      <td>0</td>\n",
       "      <td>2018</td>\n",
       "      <td>8</td>\n",
       "      <td>2</td>\n",
       "    </tr>\n",
       "    <tr>\n",
       "      <th>2</th>\n",
       "      <td>U Launcher Lite – FREE Live Cool Themes, Hide ...</td>\n",
       "      <td>Others</td>\n",
       "      <td>4.7</td>\n",
       "      <td>87510</td>\n",
       "      <td>8700000.0</td>\n",
       "      <td>5000000</td>\n",
       "      <td>0.0</td>\n",
       "      <td>Everyone</td>\n",
       "      <td>Art &amp; Design</td>\n",
       "      <td>August 1, 2018</td>\n",
       "      <td>1.2.4</td>\n",
       "      <td>4.0.3 and up</td>\n",
       "      <td>13</td>\n",
       "      <td>0</td>\n",
       "      <td>2018</td>\n",
       "      <td>8</td>\n",
       "      <td>1</td>\n",
       "    </tr>\n",
       "    <tr>\n",
       "      <th>3</th>\n",
       "      <td>Sketch - Draw &amp; Paint</td>\n",
       "      <td>Others</td>\n",
       "      <td>4.5</td>\n",
       "      <td>215644</td>\n",
       "      <td>25000000.0</td>\n",
       "      <td>50000000</td>\n",
       "      <td>0.0</td>\n",
       "      <td>Teen</td>\n",
       "      <td>Art &amp; Design</td>\n",
       "      <td>June 8, 2018</td>\n",
       "      <td>Varies with device</td>\n",
       "      <td>4.2 and up</td>\n",
       "      <td>15</td>\n",
       "      <td>0</td>\n",
       "      <td>2018</td>\n",
       "      <td>8</td>\n",
       "      <td>Varies with device</td>\n",
       "    </tr>\n",
       "    <tr>\n",
       "      <th>4</th>\n",
       "      <td>Pixel Draw - Number Art Coloring Book</td>\n",
       "      <td>Others</td>\n",
       "      <td>4.3</td>\n",
       "      <td>967</td>\n",
       "      <td>2800000.0</td>\n",
       "      <td>100000</td>\n",
       "      <td>0.0</td>\n",
       "      <td>Everyone</td>\n",
       "      <td>Art &amp; Design;Creativity</td>\n",
       "      <td>June 20, 2018</td>\n",
       "      <td>1.1</td>\n",
       "      <td>4.4 and up</td>\n",
       "      <td>10</td>\n",
       "      <td>0</td>\n",
       "      <td>2018</td>\n",
       "      <td>8</td>\n",
       "      <td>1</td>\n",
       "    </tr>\n",
       "  </tbody>\n",
       "</table>\n",
       "</div>"
      ],
      "text/plain": [
       "                                                 App Category  Rating  \\\n",
       "0     Photo Editor & Candy Camera & Grid & ScrapBook   Others     4.1   \n",
       "1                                Coloring book moana   Others     3.9   \n",
       "2  U Launcher Lite – FREE Live Cool Themes, Hide ...   Others     4.7   \n",
       "3                              Sketch - Draw & Paint   Others     4.5   \n",
       "4              Pixel Draw - Number Art Coloring Book   Others     4.3   \n",
       "\n",
       "   Reviews        Size  Installs  Price Content Rating  \\\n",
       "0      159  19000000.0     10000    0.0       Everyone   \n",
       "1      967  14000000.0    500000    0.0       Everyone   \n",
       "2    87510   8700000.0   5000000    0.0       Everyone   \n",
       "3   215644  25000000.0  50000000    0.0           Teen   \n",
       "4      967   2800000.0    100000    0.0       Everyone   \n",
       "\n",
       "                      Genres      Last Updated         Current Ver  \\\n",
       "0               Art & Design   January 7, 2018               1.0.0   \n",
       "1  Art & Design;Pretend Play  January 15, 2018               2.0.0   \n",
       "2               Art & Design    August 1, 2018               1.2.4   \n",
       "3               Art & Design      June 8, 2018  Varies with device   \n",
       "4    Art & Design;Creativity     June 20, 2018                 1.1   \n",
       "\n",
       "    Android Ver  Installs_labelled  Type_Paid  Last Update Year  \\\n",
       "0  4.0.3 and up                  8          0              2018   \n",
       "1  4.0.3 and up                 11          0              2018   \n",
       "2  4.0.3 and up                 13          0              2018   \n",
       "3    4.2 and up                 15          0              2018   \n",
       "4    4.4 and up                 10          0              2018   \n",
       "\n",
       "   Year Updt Labelled           major Ver  \n",
       "0                   8                   1  \n",
       "1                   8                   2  \n",
       "2                   8                   1  \n",
       "3                   8  Varies with device  \n",
       "4                   8                   1  "
      ]
     },
     "execution_count": 90,
     "metadata": {},
     "output_type": "execute_result"
    }
   ],
   "source": [
    "df.head()"
   ]
  },
  {
   "cell_type": "markdown",
   "id": "f267ae5c",
   "metadata": {},
   "source": [
    "### Data Preparation"
   ]
  },
  {
   "cell_type": "code",
   "execution_count": 91,
   "id": "cd6767a3",
   "metadata": {
    "tags": []
   },
   "outputs": [],
   "source": [
    "dff=df.drop(columns=['App','Installs','Price','Content Rating','Genres','Last Updated','Current Ver','Android Ver',\n",
    "                     'Last Update Year','major Ver',])"
   ]
  },
  {
   "cell_type": "code",
   "execution_count": 92,
   "id": "c0d36722",
   "metadata": {},
   "outputs": [
    {
     "data": {
      "text/html": [
       "<div>\n",
       "<style scoped>\n",
       "    .dataframe tbody tr th:only-of-type {\n",
       "        vertical-align: middle;\n",
       "    }\n",
       "\n",
       "    .dataframe tbody tr th {\n",
       "        vertical-align: top;\n",
       "    }\n",
       "\n",
       "    .dataframe thead th {\n",
       "        text-align: right;\n",
       "    }\n",
       "</style>\n",
       "<table border=\"1\" class=\"dataframe\">\n",
       "  <thead>\n",
       "    <tr style=\"text-align: right;\">\n",
       "      <th></th>\n",
       "      <th>Category</th>\n",
       "      <th>Rating</th>\n",
       "      <th>Reviews</th>\n",
       "      <th>Size</th>\n",
       "      <th>Installs_labelled</th>\n",
       "      <th>Type_Paid</th>\n",
       "      <th>Year Updt Labelled</th>\n",
       "    </tr>\n",
       "  </thead>\n",
       "  <tbody>\n",
       "    <tr>\n",
       "      <th>0</th>\n",
       "      <td>Others</td>\n",
       "      <td>4.1</td>\n",
       "      <td>159</td>\n",
       "      <td>19000000.0</td>\n",
       "      <td>8</td>\n",
       "      <td>0</td>\n",
       "      <td>8</td>\n",
       "    </tr>\n",
       "    <tr>\n",
       "      <th>1</th>\n",
       "      <td>Others</td>\n",
       "      <td>3.9</td>\n",
       "      <td>967</td>\n",
       "      <td>14000000.0</td>\n",
       "      <td>11</td>\n",
       "      <td>0</td>\n",
       "      <td>8</td>\n",
       "    </tr>\n",
       "    <tr>\n",
       "      <th>2</th>\n",
       "      <td>Others</td>\n",
       "      <td>4.7</td>\n",
       "      <td>87510</td>\n",
       "      <td>8700000.0</td>\n",
       "      <td>13</td>\n",
       "      <td>0</td>\n",
       "      <td>8</td>\n",
       "    </tr>\n",
       "    <tr>\n",
       "      <th>3</th>\n",
       "      <td>Others</td>\n",
       "      <td>4.5</td>\n",
       "      <td>215644</td>\n",
       "      <td>25000000.0</td>\n",
       "      <td>15</td>\n",
       "      <td>0</td>\n",
       "      <td>8</td>\n",
       "    </tr>\n",
       "    <tr>\n",
       "      <th>4</th>\n",
       "      <td>Others</td>\n",
       "      <td>4.3</td>\n",
       "      <td>967</td>\n",
       "      <td>2800000.0</td>\n",
       "      <td>10</td>\n",
       "      <td>0</td>\n",
       "      <td>8</td>\n",
       "    </tr>\n",
       "  </tbody>\n",
       "</table>\n",
       "</div>"
      ],
      "text/plain": [
       "  Category  Rating  Reviews        Size  Installs_labelled  Type_Paid  \\\n",
       "0   Others     4.1      159  19000000.0                  8          0   \n",
       "1   Others     3.9      967  14000000.0                 11          0   \n",
       "2   Others     4.7    87510   8700000.0                 13          0   \n",
       "3   Others     4.5   215644  25000000.0                 15          0   \n",
       "4   Others     4.3      967   2800000.0                 10          0   \n",
       "\n",
       "   Year Updt Labelled  \n",
       "0                   8  \n",
       "1                   8  \n",
       "2                   8  \n",
       "3                   8  \n",
       "4                   8  "
      ]
     },
     "execution_count": 92,
     "metadata": {},
     "output_type": "execute_result"
    }
   ],
   "source": [
    "dff.head()"
   ]
  },
  {
   "cell_type": "code",
   "execution_count": 93,
   "id": "8bf23354",
   "metadata": {},
   "outputs": [
    {
     "data": {
      "text/plain": [
       "Category               object\n",
       "Rating                float64\n",
       "Reviews                 int64\n",
       "Size                  float64\n",
       "Installs_labelled       int32\n",
       "Type_Paid               int64\n",
       "Year Updt Labelled      int32\n",
       "dtype: object"
      ]
     },
     "execution_count": 93,
     "metadata": {},
     "output_type": "execute_result"
    }
   ],
   "source": [
    "dff.dtypes"
   ]
  },
  {
   "cell_type": "code",
   "execution_count": 94,
   "id": "acf4b4d3",
   "metadata": {},
   "outputs": [],
   "source": [
    "dff=pd.get_dummies(dff, columns=['Category'], drop_first=True,dtype='int32')"
   ]
  },
  {
   "cell_type": "code",
   "execution_count": 95,
   "id": "4dcb6b1e",
   "metadata": {},
   "outputs": [
    {
     "data": {
      "text/html": [
       "<div>\n",
       "<style scoped>\n",
       "    .dataframe tbody tr th:only-of-type {\n",
       "        vertical-align: middle;\n",
       "    }\n",
       "\n",
       "    .dataframe tbody tr th {\n",
       "        vertical-align: top;\n",
       "    }\n",
       "\n",
       "    .dataframe thead th {\n",
       "        text-align: right;\n",
       "    }\n",
       "</style>\n",
       "<table border=\"1\" class=\"dataframe\">\n",
       "  <thead>\n",
       "    <tr style=\"text-align: right;\">\n",
       "      <th></th>\n",
       "      <th>Rating</th>\n",
       "      <th>Reviews</th>\n",
       "      <th>Size</th>\n",
       "      <th>Installs_labelled</th>\n",
       "      <th>Type_Paid</th>\n",
       "      <th>Year Updt Labelled</th>\n",
       "      <th>Category_Eatables</th>\n",
       "      <th>Category_Education</th>\n",
       "      <th>Category_Entertainment</th>\n",
       "      <th>Category_Family</th>\n",
       "      <th>...</th>\n",
       "      <th>Category_Media</th>\n",
       "      <th>Category_Medical</th>\n",
       "      <th>Category_Others</th>\n",
       "      <th>Category_Photos</th>\n",
       "      <th>Category_Productivity</th>\n",
       "      <th>Category_Shopping</th>\n",
       "      <th>Category_Social</th>\n",
       "      <th>Category_Sports</th>\n",
       "      <th>Category_Tools</th>\n",
       "      <th>Category_Travel</th>\n",
       "    </tr>\n",
       "  </thead>\n",
       "  <tbody>\n",
       "    <tr>\n",
       "      <th>0</th>\n",
       "      <td>4.1</td>\n",
       "      <td>159</td>\n",
       "      <td>19000000.0</td>\n",
       "      <td>8</td>\n",
       "      <td>0</td>\n",
       "      <td>8</td>\n",
       "      <td>0</td>\n",
       "      <td>0</td>\n",
       "      <td>0</td>\n",
       "      <td>0</td>\n",
       "      <td>...</td>\n",
       "      <td>0</td>\n",
       "      <td>0</td>\n",
       "      <td>1</td>\n",
       "      <td>0</td>\n",
       "      <td>0</td>\n",
       "      <td>0</td>\n",
       "      <td>0</td>\n",
       "      <td>0</td>\n",
       "      <td>0</td>\n",
       "      <td>0</td>\n",
       "    </tr>\n",
       "    <tr>\n",
       "      <th>1</th>\n",
       "      <td>3.9</td>\n",
       "      <td>967</td>\n",
       "      <td>14000000.0</td>\n",
       "      <td>11</td>\n",
       "      <td>0</td>\n",
       "      <td>8</td>\n",
       "      <td>0</td>\n",
       "      <td>0</td>\n",
       "      <td>0</td>\n",
       "      <td>0</td>\n",
       "      <td>...</td>\n",
       "      <td>0</td>\n",
       "      <td>0</td>\n",
       "      <td>1</td>\n",
       "      <td>0</td>\n",
       "      <td>0</td>\n",
       "      <td>0</td>\n",
       "      <td>0</td>\n",
       "      <td>0</td>\n",
       "      <td>0</td>\n",
       "      <td>0</td>\n",
       "    </tr>\n",
       "    <tr>\n",
       "      <th>2</th>\n",
       "      <td>4.7</td>\n",
       "      <td>87510</td>\n",
       "      <td>8700000.0</td>\n",
       "      <td>13</td>\n",
       "      <td>0</td>\n",
       "      <td>8</td>\n",
       "      <td>0</td>\n",
       "      <td>0</td>\n",
       "      <td>0</td>\n",
       "      <td>0</td>\n",
       "      <td>...</td>\n",
       "      <td>0</td>\n",
       "      <td>0</td>\n",
       "      <td>1</td>\n",
       "      <td>0</td>\n",
       "      <td>0</td>\n",
       "      <td>0</td>\n",
       "      <td>0</td>\n",
       "      <td>0</td>\n",
       "      <td>0</td>\n",
       "      <td>0</td>\n",
       "    </tr>\n",
       "    <tr>\n",
       "      <th>3</th>\n",
       "      <td>4.5</td>\n",
       "      <td>215644</td>\n",
       "      <td>25000000.0</td>\n",
       "      <td>15</td>\n",
       "      <td>0</td>\n",
       "      <td>8</td>\n",
       "      <td>0</td>\n",
       "      <td>0</td>\n",
       "      <td>0</td>\n",
       "      <td>0</td>\n",
       "      <td>...</td>\n",
       "      <td>0</td>\n",
       "      <td>0</td>\n",
       "      <td>1</td>\n",
       "      <td>0</td>\n",
       "      <td>0</td>\n",
       "      <td>0</td>\n",
       "      <td>0</td>\n",
       "      <td>0</td>\n",
       "      <td>0</td>\n",
       "      <td>0</td>\n",
       "    </tr>\n",
       "    <tr>\n",
       "      <th>4</th>\n",
       "      <td>4.3</td>\n",
       "      <td>967</td>\n",
       "      <td>2800000.0</td>\n",
       "      <td>10</td>\n",
       "      <td>0</td>\n",
       "      <td>8</td>\n",
       "      <td>0</td>\n",
       "      <td>0</td>\n",
       "      <td>0</td>\n",
       "      <td>0</td>\n",
       "      <td>...</td>\n",
       "      <td>0</td>\n",
       "      <td>0</td>\n",
       "      <td>1</td>\n",
       "      <td>0</td>\n",
       "      <td>0</td>\n",
       "      <td>0</td>\n",
       "      <td>0</td>\n",
       "      <td>0</td>\n",
       "      <td>0</td>\n",
       "      <td>0</td>\n",
       "    </tr>\n",
       "  </tbody>\n",
       "</table>\n",
       "<p>5 rows × 25 columns</p>\n",
       "</div>"
      ],
      "text/plain": [
       "   Rating  Reviews        Size  Installs_labelled  Type_Paid  \\\n",
       "0     4.1      159  19000000.0                  8          0   \n",
       "1     3.9      967  14000000.0                 11          0   \n",
       "2     4.7    87510   8700000.0                 13          0   \n",
       "3     4.5   215644  25000000.0                 15          0   \n",
       "4     4.3      967   2800000.0                 10          0   \n",
       "\n",
       "   Year Updt Labelled  Category_Eatables  Category_Education  \\\n",
       "0                   8                  0                   0   \n",
       "1                   8                  0                   0   \n",
       "2                   8                  0                   0   \n",
       "3                   8                  0                   0   \n",
       "4                   8                  0                   0   \n",
       "\n",
       "   Category_Entertainment  Category_Family  ...  Category_Media  \\\n",
       "0                       0                0  ...               0   \n",
       "1                       0                0  ...               0   \n",
       "2                       0                0  ...               0   \n",
       "3                       0                0  ...               0   \n",
       "4                       0                0  ...               0   \n",
       "\n",
       "   Category_Medical  Category_Others  Category_Photos  Category_Productivity  \\\n",
       "0                 0                1                0                      0   \n",
       "1                 0                1                0                      0   \n",
       "2                 0                1                0                      0   \n",
       "3                 0                1                0                      0   \n",
       "4                 0                1                0                      0   \n",
       "\n",
       "   Category_Shopping  Category_Social  Category_Sports  Category_Tools  \\\n",
       "0                  0                0                0               0   \n",
       "1                  0                0                0               0   \n",
       "2                  0                0                0               0   \n",
       "3                  0                0                0               0   \n",
       "4                  0                0                0               0   \n",
       "\n",
       "   Category_Travel  \n",
       "0                0  \n",
       "1                0  \n",
       "2                0  \n",
       "3                0  \n",
       "4                0  \n",
       "\n",
       "[5 rows x 25 columns]"
      ]
     },
     "execution_count": 95,
     "metadata": {},
     "output_type": "execute_result"
    }
   ],
   "source": [
    "dff.head()"
   ]
  },
  {
   "cell_type": "code",
   "execution_count": 96,
   "id": "ef7bb897",
   "metadata": {},
   "outputs": [
    {
     "data": {
      "image/png": "[encoded data removed]",
      "text/plain": [
       "<Figure size 1200x1000 with 2 Axes>"
      ]
     },
     "metadata": {},
     "output_type": "display_data"
    }
   ],
   "source": [
    "corr_matrix = dff.corr()\n",
    "\n",
    "plt.figure(figsize=(12, 10))\n",
    "sns.heatmap(corr_matrix, fmt=\".2f\")\n",
    "plt.title(\"Heatmap of Feature Correlations\")\n",
    "plt.show()"
   ]
  },
  {
   "cell_type": "code",
   "execution_count": 97,
   "id": "5323ecae",
   "metadata": {},
   "outputs": [],
   "source": [
    "X=dff.drop(columns=['Rating'])\n",
    "y=dff['Rating']"
   ]
  },
  {
   "cell_type": "code",
   "execution_count": 98,
   "id": "bc748e7c",
   "metadata": {},
   "outputs": [
    {
     "name": "stderr",
     "output_type": "stream",
     "text": [
      "C:\\Users\\shrut\\anaconda3\\Lib\\site-packages\\seaborn\\_oldcore.py:1119: FutureWarning: use_inf_as_na option is deprecated and will be removed in a future version. Convert inf values to NaN before operating instead.\n",
      "  with pd.option_context('mode.use_inf_as_na', True):\n"
     ]
    },
    {
     "data": {
      "text/plain": [
       "<Axes: xlabel='Rating', ylabel='Density'>"
      ]
     },
     "execution_count": 98,
     "metadata": {},
     "output_type": "execute_result"
    },
    {
     "data": {
      "image/png": "[encoded data removed]",
      "text/plain": [
       "<Figure size 640x480 with 1 Axes>"
      ]
     },
     "metadata": {},
     "output_type": "display_data"
    }
   ],
   "source": [
    "sns.kdeplot(y)"
   ]
  },
  {
   "cell_type": "code",
   "execution_count": 99,
   "id": "fe4b35da",
   "metadata": {},
   "outputs": [],
   "source": [
    "X_train,X_test,y_train,y_test=train_test_split(X,y,random_state=2,test_size=0.2)"
   ]
  },
  {
   "cell_type": "code",
   "execution_count": 100,
   "id": "63f3f970",
   "metadata": {},
   "outputs": [],
   "source": [
    "# Normalize Reviews and size cols from X and Rating\n",
    "\n",
    "scaler_x=StandardScaler()\n",
    "scaler_y=StandardScaler()\n",
    "\n",
    "cols_to_normalise=['Reviews','Size']\n",
    "\n",
    "X_train[cols_to_normalise]=scaler_x.fit_transform(X_train[cols_to_normalise])\n",
    "X_test[cols_to_normalise]=scaler_x.transform(X_test[cols_to_normalise])\n",
    "\n",
    "y_train=scaler_y.fit_transform(y_train.values.reshape(-1, 1))\n",
    "y_test=scaler_y.transform(y_test.values.reshape(-1, 1))"
   ]
  },
  {
   "cell_type": "code",
   "execution_count": 101,
   "id": "74a8aa93",
   "metadata": {
    "scrolled": true
   },
   "outputs": [
    {
     "data": {
      "text/html": [
       "<div>\n",
       "<style scoped>\n",
       "    .dataframe tbody tr th:only-of-type {\n",
       "        vertical-align: middle;\n",
       "    }\n",
       "\n",
       "    .dataframe tbody tr th {\n",
       "        vertical-align: top;\n",
       "    }\n",
       "\n",
       "    .dataframe thead th {\n",
       "        text-align: right;\n",
       "    }\n",
       "</style>\n",
       "<table border=\"1\" class=\"dataframe\">\n",
       "  <thead>\n",
       "    <tr style=\"text-align: right;\">\n",
       "      <th></th>\n",
       "      <th>Reviews</th>\n",
       "      <th>Size</th>\n",
       "      <th>Installs_labelled</th>\n",
       "      <th>Type_Paid</th>\n",
       "      <th>Year Updt Labelled</th>\n",
       "      <th>Category_Eatables</th>\n",
       "      <th>Category_Education</th>\n",
       "      <th>Category_Entertainment</th>\n",
       "      <th>Category_Family</th>\n",
       "      <th>Category_Finance</th>\n",
       "      <th>...</th>\n",
       "      <th>Category_Media</th>\n",
       "      <th>Category_Medical</th>\n",
       "      <th>Category_Others</th>\n",
       "      <th>Category_Photos</th>\n",
       "      <th>Category_Productivity</th>\n",
       "      <th>Category_Shopping</th>\n",
       "      <th>Category_Social</th>\n",
       "      <th>Category_Sports</th>\n",
       "      <th>Category_Tools</th>\n",
       "      <th>Category_Travel</th>\n",
       "    </tr>\n",
       "  </thead>\n",
       "  <tbody>\n",
       "    <tr>\n",
       "      <th>3142</th>\n",
       "      <td>-0.012658</td>\n",
       "      <td>0.128944</td>\n",
       "      <td>14</td>\n",
       "      <td>0</td>\n",
       "      <td>8</td>\n",
       "      <td>0</td>\n",
       "      <td>0</td>\n",
       "      <td>0</td>\n",
       "      <td>0</td>\n",
       "      <td>0</td>\n",
       "      <td>...</td>\n",
       "      <td>0</td>\n",
       "      <td>0</td>\n",
       "      <td>0</td>\n",
       "      <td>0</td>\n",
       "      <td>0</td>\n",
       "      <td>0</td>\n",
       "      <td>0</td>\n",
       "      <td>0</td>\n",
       "      <td>0</td>\n",
       "      <td>1</td>\n",
       "    </tr>\n",
       "    <tr>\n",
       "      <th>9774</th>\n",
       "      <td>-0.169262</td>\n",
       "      <td>1.733656</td>\n",
       "      <td>10</td>\n",
       "      <td>0</td>\n",
       "      <td>8</td>\n",
       "      <td>0</td>\n",
       "      <td>0</td>\n",
       "      <td>0</td>\n",
       "      <td>1</td>\n",
       "      <td>0</td>\n",
       "      <td>...</td>\n",
       "      <td>0</td>\n",
       "      <td>0</td>\n",
       "      <td>0</td>\n",
       "      <td>0</td>\n",
       "      <td>0</td>\n",
       "      <td>0</td>\n",
       "      <td>0</td>\n",
       "      <td>0</td>\n",
       "      <td>0</td>\n",
       "      <td>0</td>\n",
       "    </tr>\n",
       "    <tr>\n",
       "      <th>4344</th>\n",
       "      <td>0.037446</td>\n",
       "      <td>1.089402</td>\n",
       "      <td>14</td>\n",
       "      <td>0</td>\n",
       "      <td>8</td>\n",
       "      <td>0</td>\n",
       "      <td>0</td>\n",
       "      <td>0</td>\n",
       "      <td>1</td>\n",
       "      <td>0</td>\n",
       "      <td>...</td>\n",
       "      <td>0</td>\n",
       "      <td>0</td>\n",
       "      <td>0</td>\n",
       "      <td>0</td>\n",
       "      <td>0</td>\n",
       "      <td>0</td>\n",
       "      <td>0</td>\n",
       "      <td>0</td>\n",
       "      <td>0</td>\n",
       "      <td>0</td>\n",
       "    </tr>\n",
       "    <tr>\n",
       "      <th>5527</th>\n",
       "      <td>-0.049374</td>\n",
       "      <td>0.341669</td>\n",
       "      <td>13</td>\n",
       "      <td>0</td>\n",
       "      <td>8</td>\n",
       "      <td>0</td>\n",
       "      <td>0</td>\n",
       "      <td>0</td>\n",
       "      <td>1</td>\n",
       "      <td>0</td>\n",
       "      <td>...</td>\n",
       "      <td>0</td>\n",
       "      <td>0</td>\n",
       "      <td>0</td>\n",
       "      <td>0</td>\n",
       "      <td>0</td>\n",
       "      <td>0</td>\n",
       "      <td>0</td>\n",
       "      <td>0</td>\n",
       "      <td>0</td>\n",
       "      <td>0</td>\n",
       "    </tr>\n",
       "    <tr>\n",
       "      <th>7743</th>\n",
       "      <td>-0.169286</td>\n",
       "      <td>-0.337159</td>\n",
       "      <td>8</td>\n",
       "      <td>0</td>\n",
       "      <td>8</td>\n",
       "      <td>0</td>\n",
       "      <td>0</td>\n",
       "      <td>0</td>\n",
       "      <td>1</td>\n",
       "      <td>0</td>\n",
       "      <td>...</td>\n",
       "      <td>0</td>\n",
       "      <td>0</td>\n",
       "      <td>0</td>\n",
       "      <td>0</td>\n",
       "      <td>0</td>\n",
       "      <td>0</td>\n",
       "      <td>0</td>\n",
       "      <td>0</td>\n",
       "      <td>0</td>\n",
       "      <td>0</td>\n",
       "    </tr>\n",
       "  </tbody>\n",
       "</table>\n",
       "<p>5 rows × 24 columns</p>\n",
       "</div>"
      ],
      "text/plain": [
       "       Reviews      Size  Installs_labelled  Type_Paid  Year Updt Labelled  \\\n",
       "3142 -0.012658  0.128944                 14          0                   8   \n",
       "9774 -0.169262  1.733656                 10          0                   8   \n",
       "4344  0.037446  1.089402                 14          0                   8   \n",
       "5527 -0.049374  0.341669                 13          0                   8   \n",
       "7743 -0.169286 -0.337159                  8          0                   8   \n",
       "\n",
       "      Category_Eatables  Category_Education  Category_Entertainment  \\\n",
       "3142                  0                   0                       0   \n",
       "9774                  0                   0                       0   \n",
       "4344                  0                   0                       0   \n",
       "5527                  0                   0                       0   \n",
       "7743                  0                   0                       0   \n",
       "\n",
       "      Category_Family  Category_Finance  ...  Category_Media  \\\n",
       "3142                0                 0  ...               0   \n",
       "9774                1                 0  ...               0   \n",
       "4344                1                 0  ...               0   \n",
       "5527                1                 0  ...               0   \n",
       "7743                1                 0  ...               0   \n",
       "\n",
       "      Category_Medical  Category_Others  Category_Photos  \\\n",
       "3142                 0                0                0   \n",
       "9774                 0                0                0   \n",
       "4344                 0                0                0   \n",
       "5527                 0                0                0   \n",
       "7743                 0                0                0   \n",
       "\n",
       "      Category_Productivity  Category_Shopping  Category_Social  \\\n",
       "3142                      0                  0                0   \n",
       "9774                      0                  0                0   \n",
       "4344                      0                  0                0   \n",
       "5527                      0                  0                0   \n",
       "7743                      0                  0                0   \n",
       "\n",
       "      Category_Sports  Category_Tools  Category_Travel  \n",
       "3142                0               0                1  \n",
       "9774                0               0                0  \n",
       "4344                0               0                0  \n",
       "5527                0               0                0  \n",
       "7743                0               0                0  \n",
       "\n",
       "[5 rows x 24 columns]"
      ]
     },
     "execution_count": 101,
     "metadata": {},
     "output_type": "execute_result"
    }
   ],
   "source": [
    "X_train.head()"
   ]
  },
  {
   "cell_type": "code",
   "execution_count": 102,
   "id": "5b058271",
   "metadata": {},
   "outputs": [
    {
     "data": {
      "text/plain": [
       "(7108, 24)"
      ]
     },
     "execution_count": 102,
     "metadata": {},
     "output_type": "execute_result"
    }
   ],
   "source": [
    "X_train.shape"
   ]
  },
  {
   "cell_type": "markdown",
   "id": "2912bcf5",
   "metadata": {},
   "source": [
    "## Linear Regression"
   ]
  },
  {
   "cell_type": "code",
   "execution_count": 104,
   "id": "19bca50f",
   "metadata": {
    "scrolled": true
   },
   "outputs": [
    {
     "data": {
      "text/html": [
       "<style>#sk-container-id-1 {color: black;background-color: white;}#sk-container-id-1 pre{padding: 0;}#sk-container-id-1 div.sk-toggleable {background-color: white;}#sk-container-id-1 label.sk-toggleable__label {cursor: pointer;display: block;width: 100%;margin-bottom: 0;padding: 0.3em;box-sizing: border-box;text-align: center;}#sk-container-id-1 label.sk-toggleable__label-arrow:before {content: \"▸\";float: left;margin-right: 0.25em;color: #696969;}#sk-container-id-1 label.sk-toggleable__label-arrow:hover:before {color: black;}#sk-container-id-1 div.sk-estimator:hover label.sk-toggleable__label-arrow:before {color: black;}#sk-container-id-1 div.sk-toggleable__content {max-height: 0;max-width: 0;overflow: hidden;text-align: left;background-color: #f0f8ff;}#sk-container-id-1 div.sk-toggleable__content pre {margin: 0.2em;color: black;border-radius: 0.25em;background-color: #f0f8ff;}#sk-container-id-1 input.sk-toggleable__control:checked~div.sk-toggleable__content {max-height: 200px;max-width: 100%;overflow: auto;}#sk-container-id-1 input.sk-toggleable__control:checked~label.sk-toggleable__label-arrow:before {content: \"▾\";}#sk-container-id-1 div.sk-estimator input.sk-toggleable__control:checked~label.sk-toggleable__label {background-color: #d4ebff;}#sk-container-id-1 div.sk-label input.sk-toggleable__control:checked~label.sk-toggleable__label {background-color: #d4ebff;}#sk-container-id-1 input.sk-hidden--visually {border: 0;clip: rect(1px 1px 1px 1px);clip: rect(1px, 1px, 1px, 1px);height: 1px;margin: -1px;overflow: hidden;padding: 0;position: absolute;width: 1px;}#sk-container-id-1 div.sk-estimator {font-family: monospace;background-color: #f0f8ff;border: 1px dotted black;border-radius: 0.25em;box-sizing: border-box;margin-bottom: 0.5em;}#sk-container-id-1 div.sk-estimator:hover {background-color: #d4ebff;}#sk-container-id-1 div.sk-parallel-item::after {content: \"\";width: 100%;border-bottom: 1px solid gray;flex-grow: 1;}#sk-container-id-1 div.sk-label:hover label.sk-toggleable__label {background-color: #d4ebff;}#sk-container-id-1 div.sk-serial::before {content: \"\";position: absolute;border-left: 1px solid gray;box-sizing: border-box;top: 0;bottom: 0;left: 50%;z-index: 0;}#sk-container-id-1 div.sk-serial {display: flex;flex-direction: column;align-items: center;background-color: white;padding-right: 0.2em;padding-left: 0.2em;position: relative;}#sk-container-id-1 div.sk-item {position: relative;z-index: 1;}#sk-container-id-1 div.sk-parallel {display: flex;align-items: stretch;justify-content: center;background-color: white;position: relative;}#sk-container-id-1 div.sk-item::before, #sk-container-id-1 div.sk-parallel-item::before {content: \"\";position: absolute;border-left: 1px solid gray;box-sizing: border-box;top: 0;bottom: 0;left: 50%;z-index: -1;}#sk-container-id-1 div.sk-parallel-item {display: flex;flex-direction: column;z-index: 1;position: relative;background-color: white;}#sk-container-id-1 div.sk-parallel-item:first-child::after {align-self: flex-end;width: 50%;}#sk-container-id-1 div.sk-parallel-item:last-child::after {align-self: flex-start;width: 50%;}#sk-container-id-1 div.sk-parallel-item:only-child::after {width: 0;}#sk-container-id-1 div.sk-dashed-wrapped {border: 1px dashed gray;margin: 0 0.4em 0.5em 0.4em;box-sizing: border-box;padding-bottom: 0.4em;background-color: white;}#sk-container-id-1 div.sk-label label {font-family: monospace;font-weight: bold;display: inline-block;line-height: 1.2em;}#sk-container-id-1 div.sk-label-container {text-align: center;}#sk-container-id-1 div.sk-container {/* jupyter's `normalize.less` sets `[hidden] { display: none; }` but bootstrap.min.css set `[hidden] { display: none !important; }` so we also need the `!important` here to be able to override the default hidden behavior on the sphinx rendered scikit-learn.org. See: https://github.com/scikit-learn/scikit-learn/issues/21755 */display: inline-block !important;position: relative;}#sk-container-id-1 div.sk-text-repr-fallback {display: none;}</style><div id=\"sk-container-id-1\" class=\"sk-top-container\"><div class=\"sk-text-repr-fallback\"><pre>LinearRegression()</pre><b>In a Jupyter environment, please rerun this cell to show the HTML representation or trust the notebook. <br />On GitHub, the HTML representation is unable to render, please try loading this page with nbviewer.org.</b></div><div class=\"sk-container\" hidden><div class=\"sk-item\"><div class=\"sk-estimator sk-toggleable\"><input class=\"sk-toggleable__control sk-hidden--visually\" id=\"sk-estimator-id-1\" type=\"checkbox\" checked><label for=\"sk-estimator-id-1\" class=\"sk-toggleable__label sk-toggleable__label-arrow\">LinearRegression</label><div class=\"sk-toggleable__content\"><pre>LinearRegression()</pre></div></div></div></div></div>"
      ],
      "text/plain": [
       "LinearRegression()"
      ]
     },
     "execution_count": 104,
     "metadata": {},
     "output_type": "execute_result"
    }
   ],
   "source": [
    "reg=LinearRegression()\n",
    "reg.fit(X_train,y_train)"
   ]
  },
  {
   "cell_type": "code",
   "execution_count": 105,
   "id": "e47c2aa7",
   "metadata": {
    "scrolled": true
   },
   "outputs": [
    {
     "name": "stdout",
     "output_type": "stream",
     "text": [
      "Mean Absolute Error: 0.6713080817047816\n",
      "Mean Squared Error: 0.9090590002046695\n",
      "Root Mean Squared Error: 0.9534458559376455\n",
      "R2 Score: 0.03987481245270608\n"
     ]
    }
   ],
   "source": [
    "lr_pred=reg.predict(X_test)\n",
    "lr_acc=(lr_pred,y_test)\n",
    "\n",
    "print('Mean Absolute Error:', metrics.mean_absolute_error(y_test, lr_pred))\n",
    "print('Mean Squared Error:', metrics.mean_squared_error(y_test, lr_pred))\n",
    "print('Root Mean Squared Error:', np.sqrt(metrics.mean_squared_error(y_test, lr_pred)))\n",
    "print('R2 Score:', metrics.r2_score(y_test, lr_pred))"
   ]
  },
  {
   "cell_type": "markdown",
   "id": "2c3b9c03",
   "metadata": {},
   "source": [
    "## Polynomial Regression"
   ]
  },
  {
   "cell_type": "code",
   "execution_count": 110,
   "id": "3cec2f00",
   "metadata": {},
   "outputs": [],
   "source": [
    "poly=PolynomialFeatures(degree=2)\n",
    "X_poly_train=poly.fit_transform(X_train)\n",
    "X_poly_test=poly.fit_transform(X_test)"
   ]
  },
  {
   "cell_type": "code",
   "execution_count": 111,
   "id": "df7a90ba",
   "metadata": {},
   "outputs": [
    {
     "name": "stdout",
     "output_type": "stream",
     "text": [
      "Mean Absolute Error: 0.6713080817047816\n",
      "Mean Squared Error: 0.9090590002046695\n",
      "Root Mean Squared Error: 0.9534458559376455\n",
      "R2 Score: 0.03987481245270608\n"
     ]
    }
   ],
   "source": [
    "polyreg=LinearRegression()\n",
    "\n",
    "polyreg.fit(X_train,y_train)\n",
    "\n",
    "poly_lr_pred=polyreg.predict(X_test)\n",
    "\n",
    "ploy_lr_acc=(poly_lr_pred,y_test)\n",
    "\n",
    "print('Mean Absolute Error:', metrics.mean_absolute_error(y_test, poly_lr_pred))\n",
    "print('Mean Squared Error:', metrics.mean_squared_error(y_test, poly_lr_pred))\n",
    "print('Root Mean Squared Error:', np.sqrt(metrics.mean_squared_error(y_test, poly_lr_pred)))\n",
    "print('R2 Score:', metrics.r2_score(y_test, poly_lr_pred))"
   ]
  },
  {
   "cell_type": "markdown",
   "id": "9930903b",
   "metadata": {},
   "source": [
    "## Ridge Regression "
   ]
  },
  {
   "cell_type": "code",
   "execution_count": 118,
   "id": "1e6146ff",
   "metadata": {
    "scrolled": true
   },
   "outputs": [
    {
     "name": "stdout",
     "output_type": "stream",
     "text": [
      "Ridge MSE: 0.909060212864415\n",
      "Ridge R2 Score: 0.03987353167206875\n"
     ]
    }
   ],
   "source": [
    "ridge = Ridge()\n",
    "ridge.fit(X_train, y_train)\n",
    "\n",
    "ridge_pred = ridge.predict(X_test)\n",
    "print('Ridge MSE:', mean_squared_error(y_test, ridge_pred))\n",
    "print('Ridge R2 Score:', r2_score(y_test, ridge_pred))"
   ]
  },
  {
   "cell_type": "markdown",
   "id": "a4c43eee",
   "metadata": {},
   "source": [
    "## Lasso Regression "
   ]
  },
  {
   "cell_type": "code",
   "execution_count": 119,
   "id": "2fa4823e",
   "metadata": {
    "scrolled": true
   },
   "outputs": [
    {
     "name": "stdout",
     "output_type": "stream",
     "text": [
      "Lasso MSE: 0.9143039519239835\n",
      "Lasso R2 Score: 0.03433522673599332\n"
     ]
    }
   ],
   "source": [
    "lasso = Lasso(alpha=0.01)  # Adjust alpha for regularization strength\n",
    "lasso.fit(X_train, y_train)\n",
    "lasso_pred = lasso.predict(X_test)\n",
    "\n",
    "print('Lasso MSE:', mean_squared_error(y_test, lasso_pred))\n",
    "print('Lasso R2 Score:', r2_score(y_test, lasso_pred))"
   ]
  },
  {
   "cell_type": "code",
   "execution_count": 120,
   "id": "0bcbc354",
   "metadata": {
    "scrolled": true
   },
   "outputs": [
    {
     "name": "stdout",
     "output_type": "stream",
     "text": [
      "Lasso MSE: 0.9096796485941705\n",
      "Lasso R2 Score: 0.03921929927783352\n"
     ]
    }
   ],
   "source": [
    "# Fit Lasso Regression\n",
    "lasso = Lasso(alpha=0.005)  # Adjust alpha for regularization strength\n",
    "lasso.fit(X_train, y_train)\n",
    "\n",
    "# Predict and evaluate\n",
    "lasso_pred = lasso.predict(X_test)\n",
    "print('Lasso MSE:', mean_squared_error(y_test, lasso_pred))\n",
    "print('Lasso R2 Score:', r2_score(y_test, lasso_pred))"
   ]
  },
  {
   "cell_type": "markdown",
   "id": "7aabac49",
   "metadata": {},
   "source": [
    "## ElasticNet Regression "
   ]
  },
  {
   "cell_type": "code",
   "execution_count": 126,
   "id": "edd46526",
   "metadata": {
    "scrolled": true
   },
   "outputs": [
    {
     "name": "stdout",
     "output_type": "stream",
     "text": [
      "ElasticNet MSE: 0.9101444897919978\n",
      "ElasticNet R2 Score: 0.03872834572900652\n"
     ]
    }
   ],
   "source": [
    "elastic = ElasticNet(alpha=0.01, l1_ratio=0.5)  # l1_ratio balances L1 and L2\n",
    "elastic.fit(X_train, y_train)\n",
    "elastic_pred = elastic.predict(X_test)\n",
    "\n",
    "print('ElasticNet MSE:', mean_squared_error(y_test, elastic_pred))\n",
    "print('ElasticNet R2 Score:', r2_score(y_test, elastic_pred))"
   ]
  },
  {
   "cell_type": "markdown",
   "id": "d4b036de",
   "metadata": {},
   "source": [
    "## Decision Tree"
   ]
  },
  {
   "cell_type": "code",
   "execution_count": 110,
   "id": "0f6c58a0",
   "metadata": {
    "scrolled": true
   },
   "outputs": [
    {
     "name": "stdout",
     "output_type": "stream",
     "text": [
      "Mean Absolute Error: 0.7841933660444463\n",
      "Mean Squared Error: 1.4368925420382381\n",
      "Root Mean Squared Error: 1.1987045265778544\n",
      "R2 Score: -0.5176096613081913\n"
     ]
    }
   ],
   "source": [
    "\n",
    "\n",
    "dt=DecisionTreeRegressor()\n",
    "dt.fit(X_train,y_train)\n",
    "dt_pred=dt.predict(X_test)\n",
    "\n",
    "print('Mean Absolute Error:', metrics.mean_absolute_error(y_test, dt_pred))\n",
    "print('Mean Squared Error:', metrics.mean_squared_error(y_test, dt_pred))\n",
    "print('Root Mean Squared Error:', np.sqrt(metrics.mean_squared_error(y_test, dt_pred)))\n",
    "print('R2 Score:', metrics.r2_score(y_test, dt_pred))"
   ]
  },
  {
   "cell_type": "markdown",
   "id": "19b193ea",
   "metadata": {},
   "source": [
    "## Random Forest "
   ]
  },
  {
   "cell_type": "code",
   "execution_count": 113,
   "id": "51c907df",
   "metadata": {},
   "outputs": [
    {
     "name": "stdout",
     "output_type": "stream",
     "text": [
      "Mean Absolute Error: 0.6264091033946578\n",
      "Mean Squared Error: 0.8727816151806241\n",
      "Root Mean Squared Error: 0.934227817601587\n",
      "R2 Score: 0.07819007151960378\n"
     ]
    }
   ],
   "source": [
    "\n",
    "\n",
    "rf=RandomForestRegressor()\n",
    "rf.fit(X_train,y_train.ravel())\n",
    "rf_pred = rf.predict(X_test)\n",
    "\n",
    "print('Mean Absolute Error:', metrics.mean_absolute_error(y_test, rf_pred))\n",
    "print('Mean Squared Error:', metrics.mean_squared_error(y_test, rf_pred))\n",
    "print('Root Mean Squared Error:', np.sqrt(metrics.mean_squared_error(y_test, rf_pred)))\n",
    "print('R2 Score:', metrics.r2_score(y_test, rf_pred))"
   ]
  },
  {
   "cell_type": "markdown",
   "id": "d36dc25e",
   "metadata": {},
   "source": [
    "Better than Decision tree but the performance is still poor.</br> This can be due to: </br>\n",
    "1. Outliers in the data</br>\n",
    "2. Important predictive features are missing"
   ]
  },
  {
   "cell_type": "code",
   "execution_count": 115,
   "id": "6919db3b",
   "metadata": {},
   "outputs": [
    {
     "name": "stdout",
     "output_type": "stream",
     "text": [
      "Mean Absolute Error: 0.6244102294836357\n",
      "Mean Squared Error: 0.9193733828442495\n",
      "Root Mean Squared Error: 0.9588396022506838\n",
      "R2 Score: 0.028981021660214323\n"
     ]
    }
   ],
   "source": [
    "\n",
    "\n",
    "svr=SVR()\n",
    "\n",
    "svr.fit(X_train,y_train.ravel())\n",
    "svr_pred=svr.predict(X_test)\n",
    "\n",
    "print('Mean Absolute Error:', metrics.mean_absolute_error(y_test, svr_pred))\n",
    "print('Mean Squared Error:', metrics.mean_squared_error(y_test, svr_pred))\n",
    "print('Root Mean Squared Error:', np.sqrt(metrics.mean_squared_error(y_test, svr_pred)))\n",
    "print('R2 Score:', metrics.r2_score(y_test, svr_pred))"
   ]
  },
  {
   "cell_type": "markdown",
   "id": "a537100b",
   "metadata": {},
   "source": [
    "## XG Boost "
   ]
  },
  {
   "cell_type": "code",
   "execution_count": 117,
   "id": "abe02531",
   "metadata": {},
   "outputs": [
    {
     "name": "stdout",
     "output_type": "stream",
     "text": [
      "Mean Absolute Error: 0.6385624753634567\n",
      "Mean Squared Error: 0.8978164717584397\n",
      "Root Mean Squared Error: 0.9475317787591294\n",
      "R2 Score: 0.051748887436301017\n"
     ]
    }
   ],
   "source": [
    "\n",
    "\n",
    "xg=xgb.XGBRegressor()\n",
    "\n",
    "xg.fit(X_train,y_train)\n",
    "xgb_pred=xg.predict(X_test)\n",
    "\n",
    "print('Mean Absolute Error:', metrics.mean_absolute_error(y_test, xgb_pred))\n",
    "print('Mean Squared Error:', metrics.mean_squared_error(y_test, xgb_pred))\n",
    "print('Root Mean Squared Error:', np.sqrt(metrics.mean_squared_error(y_test, xgb_pred)))\n",
    "print('R2 Score:', metrics.r2_score(y_test, xgb_pred))"
   ]
  },
  {
   "cell_type": "code",
   "execution_count": 118,
   "id": "64d001ab",
   "metadata": {},
   "outputs": [],
   "source": []
  },
  {
   "cell_type": "code",
   "execution_count": 120,
   "id": "c8fcde42",
   "metadata": {
    "scrolled": true
   },
   "outputs": [
    {
     "name": "stdout",
     "output_type": "stream",
     "text": [
      "Fitting 2 folds for each of 2 candidates, totalling 4 fits\n",
      "Best Parameters: {'subsample': 0.6, 'reg_lambda': 1, 'reg_alpha': 5, 'min_child_weight': 3, 'max_depth': 5, 'colsample_bytree': 0.5}\n",
      "Best Score: 0.9081280587427351\n"
     ]
    }
   ],
   "source": [
    "\n",
    "xgbr = XGBRegressor(random_state=42)\n",
    "\n",
    "# Define hyperparameter grid\n",
    "param_grid = {\n",
    "    'max_depth': [3,5],\n",
    "    'min_child_weight': [1, 3],\n",
    "#     'gamma': [0, 0.1, 0.5, 1, 5],\n",
    "    'subsample': [0.6, 0.8, 1.0],\n",
    "    'colsample_bytree': [0.5, 0.7, 1.0],\n",
    "#     'learning_rate': [0.01, 0.05, 0.1],\n",
    "#     'n_estimators': [100, 300, 500],\n",
    "    'reg_lambda': [0, 1, 5],\n",
    "    'reg_alpha': [0, 1, 5]\n",
    "}\n",
    "\n",
    "# RandomizedSearchCV\n",
    "random_search = RandomizedSearchCV(estimator=xgbr, param_distributions=param_grid,\n",
    "                                   n_iter=2, scoring='neg_mean_squared_error', \n",
    "                                   cv=2, verbose=2, random_state=42, n_jobs=-1)\n",
    "\n",
    "# Fit the model\n",
    "random_search.fit(X_train, y_train)\n",
    "\n",
    "# Best parameters and score\n",
    "print(\"Best Parameters:\", random_search.best_params_)\n",
    "print(\"Best Score:\", -random_search.best_score_)  # MSE"
   ]
  },
  {
   "cell_type": "code",
   "execution_count": 123,
   "id": "239b508d",
   "metadata": {},
   "outputs": [
    {
     "name": "stdout",
     "output_type": "stream",
     "text": [
      "Mean Absolute Error: 0.6215578264723867\n",
      "Mean Squared Error: 0.8446157215518462\n",
      "Root Mean Squared Error: 0.9190297718528199\n",
      "R2 Score: 0.1079381779644869\n"
     ]
    }
   ],
   "source": [
    "best_xgb = random_search.best_estimator_\n",
    "\n",
    "# Predictions\n",
    "xgbr_pred = best_xgb.predict(X_test)\n",
    "\n",
    "# Evaluate\n",
    "\n",
    "print('Mean Absolute Error:', metrics.mean_absolute_error(y_test, xgbr_pred))\n",
    "print('Mean Squared Error:', metrics.mean_squared_error(y_test, xgbr_pred))\n",
    "print('Root Mean Squared Error:', np.sqrt(metrics.mean_squared_error(y_test, xgbr_pred)))\n",
    "print('R2 Score:', metrics.r2_score(y_test, xgbr_pred))"
   ]
  },
  {
   "cell_type": "code",
   "execution_count": null,
   "id": "538aa37c",
   "metadata": {},
   "outputs": [],
   "source": []
  }
 ],
 "metadata": {
  "kernelspec": {
   "display_name": "Python 3 (ipykernel)",
   "language": "python",
   "name": "python3"
  },
  "language_info": {
   "codemirror_mode": {
    "name": "ipython",
    "version": 3
   },
   "file_extension": ".py",
   "mimetype": "text/x-python",
   "name": "python",
   "nbconvert_exporter": "python",
   "pygments_lexer": "ipython3",
   "version": "3.11.7"
  }
 },
 "nbformat": 4,
 "nbformat_minor": 5
}
